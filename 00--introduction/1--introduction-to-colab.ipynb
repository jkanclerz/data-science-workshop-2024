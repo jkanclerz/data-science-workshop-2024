{
 "cells": [
  {
   "cell_type": "markdown",
   "id": "da2c13b3",
   "metadata": {},
   "source": [
    "[![Open In Colab](https://colab.research.google.com/assets/colab-badge.svg)](https://githubtocolab.com/jkanclerz/data-science-workshop-2024/blob/main/00--introduction/1--introduction-to-colab.ipynb)"
   ]
  },
  {
   "cell_type": "markdown",
   "id": "809fdb89",
   "metadata": {},
   "source": []
  },
  {
   "cell_type": "markdown",
   "id": "9e36e60c",
   "metadata": {},
   "source": [
    "## Nawigacja\n",
    "\n",
    "* ``ESC`` tryb wydawania poleceń\n",
    "* ``a`` *above* dodaj komórkę na górze \n",
    "* ``b`` *below* dodaj komórkę na dole\n",
    "* ``Shift + ENTER`` uruchom\n",
    "* ``⬆️`` w trybie poleceń przejdź do góry\n",
    "* ``⬇️`` w trybie poleceń przejdź do dołu"
   ]
  },
  {
   "cell_type": "markdown",
   "id": "30679c9c",
   "metadata": {},
   "source": [
    "## Definicja tekstu\n",
    "\n",
    "Język znaczników. Został stworzony w celu jak najbardziej uproszczonego tworzenia i formatowania tekstu\n",
    "\n",
    "[https://www.markdownguide.org/cheat-sheet/](https://www.markdownguide.org/cheat-sheet/)"
   ]
  },
  {
   "cell_type": "markdown",
   "id": "14aaf127",
   "metadata": {},
   "source": [
    "```markdown\n",
    "### Notatka 1, nagłówek 3 stopnia\n",
    "\n",
    "tresć notatki paragraf\n",
    "\n",
    "[https://uek.krakow.pl](https://uek.krakow.pl)\n",
    "\n",
    "[Uek piekna uczelnia](https://uek.krakow.pl)\n",
    "\n",
    "![obrazek ueku](https://sg-cdn.uek.krakow.pl/thumbnail/original/pages/9cbf57d5-e0eb-4902-90ea-5d1a2ec2d27d/20210520_135536.jpg, \"Uek budynek główny\")\n",
    "\n",
    "Lista:\n",
    "* a\n",
    "    * aa\n",
    "* b\n",
    "    * bb\n",
    "        * bbb\n",
    "```"
   ]
  },
  {
   "cell_type": "markdown",
   "id": "dd97d4f9",
   "metadata": {},
   "source": [
    "## Kod python"
   ]
  },
  {
   "cell_type": "code",
   "execution_count": 8,
   "id": "9b3e452b",
   "metadata": {},
   "outputs": [
    {
     "name": "stdout",
     "output_type": "stream",
     "text": [
      "Hello world\n"
     ]
    }
   ],
   "source": [
    "print(\"Hello world\")"
   ]
  },
  {
   "cell_type": "code",
   "execution_count": 9,
   "id": "9ff31040",
   "metadata": {},
   "outputs": [],
   "source": [
    "x = \"abc\""
   ]
  },
  {
   "cell_type": "code",
   "execution_count": 10,
   "id": "5c550c87",
   "metadata": {},
   "outputs": [],
   "source": [
    "a,b,c = (1,2,3)"
   ]
  },
  {
   "cell_type": "code",
   "execution_count": 11,
   "id": "b83e29b0",
   "metadata": {},
   "outputs": [
    {
     "data": {
      "text/plain": [
       "3"
      ]
     },
     "execution_count": 11,
     "metadata": {},
     "output_type": "execute_result"
    }
   ],
   "source": [
    "a+b"
   ]
  },
  {
   "cell_type": "code",
   "execution_count": 12,
   "id": "a4121e10",
   "metadata": {},
   "outputs": [],
   "source": [
    "assert a == 1"
   ]
  },
  {
   "cell_type": "code",
   "execution_count": 13,
   "id": "7c87dd92",
   "metadata": {},
   "outputs": [
    {
     "ename": "AssertionError",
     "evalue": "",
     "output_type": "error",
     "traceback": [
      "\u001b[0;31m---------------------------------------------------------------------------\u001b[0m",
      "\u001b[0;31mAssertionError\u001b[0m                            Traceback (most recent call last)",
      "Cell \u001b[0;32mIn[13], line 1\u001b[0m\n\u001b[0;32m----> 1\u001b[0m \u001b[39massert\u001b[39;00m b \u001b[39m==\u001b[39m \u001b[39m1\u001b[39m\n",
      "\u001b[0;31mAssertionError\u001b[0m: "
     ]
    }
   ],
   "source": [
    "assert b == 1"
   ]
  },
  {
   "cell_type": "code",
   "execution_count": null,
   "id": "51d182ea",
   "metadata": {},
   "outputs": [],
   "source": [
    "def sum_them(digit_1, digit_2):\n",
    "    return digit_1 + digit_2"
   ]
  },
  {
   "cell_type": "code",
   "execution_count": null,
   "id": "f061cb7f",
   "metadata": {},
   "outputs": [],
   "source": [
    "sum_them(a, b)"
   ]
  },
  {
   "cell_type": "code",
   "execution_count": null,
   "id": "49279903",
   "metadata": {},
   "outputs": [],
   "source": [
    "assert sum_them(a,b) == c"
   ]
  },
  {
   "cell_type": "code",
   "execution_count": null,
   "id": "629b053b",
   "metadata": {},
   "outputs": [],
   "source": [
    "import math"
   ]
  },
  {
   "cell_type": "code",
   "execution_count": null,
   "id": "24711650",
   "metadata": {},
   "outputs": [],
   "source": [
    "math.pi"
   ]
  },
  {
   "cell_type": "markdown",
   "id": "b1738568",
   "metadata": {},
   "source": [
    "## Polecenia powłoki bash (CLI)\n",
    "\n",
    "* lista plików ``ls`` *list*\n",
    "* zmiana nazwy / scieżki ``mv`` *move*\n",
    "* stworzenie katalogu  ``mkdir`` *make directory*\n",
    "* nawigacja po katalogach ``cd`` *change directory*\n",
    "* usunięcie pliku / katalogu ``rm`` *remove*\n",
    "* wyświetl zawartość pliku ``cat`` *concatenate*\n",
    "\n",
    "```bash\n",
    "!mkdir -p foo/moo/boo/zoo\n",
    "!echo \"Hello world\" > foo/moo/boo/zoo/hello.txt\n",
    "!echo \"Hello world 2\" > foo/moo/boo/zoo/hello_2.txt\n",
    "!ls -l foo/moo/boo/zoo\n",
    "!cat foo/moo/boo/zoo/hello.txt\n",
    "!cat foo/moo/boo/zoo/hello.txt foo/moo/boo/zoo/hello_2.txt\n",
    "!rm -rf foo\n",
    "```"
   ]
  },
  {
   "cell_type": "markdown",
   "id": "d4ee92ab",
   "metadata": {},
   "source": [
    "## Instalacja zależności python\n",
    "\n",
    "### Python virtual env\n",
    "\n",
    "```bash\n",
    "python -m venv .venv\n",
    "```\n",
    "\n",
    "```bash\n",
    "source .venv/bin/activate\n",
    "```\n",
    "\n",
    "windows alternative powershell\n",
    "```powershell\n",
    ".venv\\Scripts\\activate\n",
    "```\n",
    "\n",
    "```bash \n",
    "pip install requests\n",
    "```\n"
   ]
  },
  {
   "cell_type": "code",
   "execution_count": null,
   "id": "9f8c8e04",
   "metadata": {},
   "outputs": [
    {
     "name": "stdout",
     "output_type": "stream",
     "text": [
      "Requirement already satisfied: requests in /Users/jkanclerz/myplace/dydaktyka/przetwarzanie-dokumnetow/data-science-workshop-2022/.venv/lib/python3.9/site-packages (2.26.0)\n",
      "Requirement already satisfied: urllib3<1.27,>=1.21.1 in /Users/jkanclerz/myplace/dydaktyka/przetwarzanie-dokumnetow/data-science-workshop-2022/.venv/lib/python3.9/site-packages (from requests) (1.26.7)\n",
      "Requirement already satisfied: idna<4,>=2.5 in /Users/jkanclerz/myplace/dydaktyka/przetwarzanie-dokumnetow/data-science-workshop-2022/.venv/lib/python3.9/site-packages (from requests) (3.3)\n",
      "Requirement already satisfied: charset-normalizer~=2.0.0 in /Users/jkanclerz/myplace/dydaktyka/przetwarzanie-dokumnetow/data-science-workshop-2022/.venv/lib/python3.9/site-packages (from requests) (2.0.7)\n",
      "Requirement already satisfied: certifi>=2017.4.17 in /Users/jkanclerz/myplace/dydaktyka/przetwarzanie-dokumnetow/data-science-workshop-2022/.venv/lib/python3.9/site-packages (from requests) (2021.10.8)\n",
      "Note: you may need to restart the kernel to use updated packages.\n"
     ]
    }
   ],
   "source": [
    "pip install requests"
   ]
  },
  {
   "cell_type": "markdown",
   "id": "97b2a2c5",
   "metadata": {},
   "source": [
    "### Bezpieczne i wesołe hasło\n",
    "[https://www.dinopass.com/](https://www.dinopass.com/)"
   ]
  },
  {
   "cell_type": "code",
   "execution_count": null,
   "id": "353be4bc",
   "metadata": {},
   "outputs": [],
   "source": [
    "import requests\n",
    "\n",
    "URL = \"https://www.dinopass.com/password/simple\""
   ]
  },
  {
   "cell_type": "code",
   "execution_count": null,
   "id": "2733e6d2",
   "metadata": {},
   "outputs": [],
   "source": [
    "response = requests.get(URL)"
   ]
  },
  {
   "cell_type": "code",
   "execution_count": null,
   "id": "7f58e94b",
   "metadata": {},
   "outputs": [
    {
     "data": {
      "text/plain": [
       "'muddyram90'"
      ]
     },
     "execution_count": 11,
     "metadata": {},
     "output_type": "execute_result"
    }
   ],
   "source": [
    "response.text"
   ]
  },
  {
   "cell_type": "code",
   "execution_count": null,
   "id": "f183a113",
   "metadata": {},
   "outputs": [],
   "source": [
    "def random_password() -> str:\n",
    "    URL = \"https://www.dinopass.com/password/simple\"\n",
    "    return requests.get(URL).text"
   ]
  },
  {
   "cell_type": "code",
   "execution_count": null,
   "id": "df4d89d2",
   "metadata": {},
   "outputs": [
    {
     "data": {
      "text/plain": [
       "'happysnow77'"
      ]
     },
     "execution_count": 16,
     "metadata": {},
     "output_type": "execute_result"
    }
   ],
   "source": [
    "random_password()"
   ]
  },
  {
   "cell_type": "markdown",
   "id": "bfea894c",
   "metadata": {},
   "source": [
    "# Zadanie 1\n",
    "Pobierz i zapisz do pliku 10 losowo wybranych dowcipów o Chacku Norisie\n",
    "Wykorzystaj: ``https://api.chucknorris.io/``"
   ]
  },
  {
   "cell_type": "code",
   "execution_count": null,
   "id": "54e2ae44",
   "metadata": {},
   "outputs": [],
   "source": [
    "## some python code"
   ]
  },
  {
   "cell_type": "markdown",
   "id": "7dcf738d",
   "metadata": {},
   "source": [
    "## Intro to python\n",
    "\n",
    "[https://github.com/jkanclerz/intro-to-python](https://github.com/jkanclerz/intro-to-python)\n"
   ]
  }
 ],
 "metadata": {
  "kernelspec": {
   "display_name": "Python 3.10.8 64-bit",
   "language": "python",
   "name": "python3"
  },
  "language_info": {
   "codemirror_mode": {
    "name": "ipython",
    "version": 3
   },
   "file_extension": ".py",
   "mimetype": "text/x-python",
   "name": "python",
   "nbconvert_exporter": "python",
   "pygments_lexer": "ipython3",
   "version": "3.11.6"
  },
  "vscode": {
   "interpreter": {
    "hash": "aee8b7b246df8f9039afb4144a1f6fd8d2ca17a180786b69acc140d282b71a49"
   }
  }
 },
 "nbformat": 4,
 "nbformat_minor": 5
}
