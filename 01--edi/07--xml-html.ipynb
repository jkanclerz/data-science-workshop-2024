{
 "cells": [
  {
   "cell_type": "markdown",
   "metadata": {},
   "source": [
    "[![Open In Colab](https://colab.research.google.com/assets/colab-badge.svg)](https://githubtocolab.com/jkanclerz/data-science-workshop-2024/blob/main/01--edi/07--xml-html.ipynb)"
   ]
  },
  {
   "cell_type": "markdown",
   "metadata": {},
   "source": [
    "## Złożone formaty\n",
    "\n",
    "* xml\n",
    "* html\n",
    "\n",
    "### XML\n",
    "\n",
    "    * transfer danych / JPK / Dokumenty / Formularze\n",
    "    * zagnieżdzone struktury\n",
    "    * walidacja dokumentu\n",
    "    * Ogólnodostępne parsery w językach programowania\n",
    "    * Zorientowany biznesowo\n",
    "\n",
    "```xml\n",
    "<article>\n",
    "    <info>\n",
    "        <title>Some title</title>\n",
    "        <authors>\n",
    "            <author>\n",
    "                <firstname>Jakub</firstname>\n",
    "                <lastname>Kanclerz</lastname>\n",
    "            </author>\n",
    "        </authors>\n",
    "    </info>\n",
    "    <content>\n",
    "        <section type=\"header\">\n",
    "            <paragraph>\n",
    "                some title\n",
    "            </paragraph>\n",
    "        </section>\n",
    "        <section type=\"main\">\n",
    "            <paragraph>\n",
    "                some content\n",
    "            </paragraph>\n",
    "            <image src=\"image/src.jpeg\"/>\n",
    "        </section>\n",
    "    </content>\n",
    "</article>\n",
    "```\n",
    "\n",
    "### Html\n",
    "\n",
    "\n",
    "```html\n",
    "<li class=\"link\">\n",
    "    <div class=\"article\" data-id=\"4789115\">\n",
    "        <a href=\"#4789115\">\n",
    "            <span>85</span>\n",
    "            <span class=\"button button submit\">wykop</span>\n",
    "        </a>\n",
    "    </div>\n",
    "\n",
    "    <div class=\"media-content m-reset-float \">\n",
    "        <a href=\"https://www.wykop.pl/link/4789115/w-jaki-sposob-facebook-stal-sie-lewicowa-sekta-opowiesc-pracownika-firmy/\">\n",
    "            <img src=\"https://www.wykop.pl/cdn/c3397993/link_MwUxfsmJdpfvuiy0ICl1l0Yw35VeWgBc,w207h139.jpg\" alt=\"W jaki sposób Facebook stał się lewicową sektą? Opowieść pracownika firmy.\">\n",
    "        </a>\n",
    "    </div>\n",
    "    <div class=\"lcontrast m-reset-margin\">\n",
    "        <h2>\n",
    "            <a href=\"https://www.wykop.pl/link/4789115/w-jaki-sposob-facebook-stal-sie-lewicowa-sekta-opowiesc-pracownika-firmy/\"\n",
    "                rel=\"nofollow noopener noreferrer\" title=\"W jaki sposób Facebook stał się lewicową sektą? Opowieść pracownika firmy.\">W\n",
    "                jaki sposób Facebook stał się lewicową sektą? Opowieść pracownika firmy.</a>\n",
    "        </h2>\n",
    "\n",
    "\n",
    "        <div class=\"description\">\n",
    "            <p class=\"text\">\n",
    "                <a href=\"https://www.wykop.pl/link/4789115/w-jaki-sposob-facebook-stal-sie-lewicowa-sekta-opowiesc-pracownika-firmy/\"\n",
    "                    title=\"\">\n",
    "                    Tragiczna relacja pracownika, który przez lata obserwował jak serwis promujący wolność słowa\n",
    "                    zamienił się w ideologiczny rynsztok prześladujący pracowników o zróżnicowanym światopoglądzie.\n",
    "                </a>\n",
    "            </p>\n",
    "        </div>\n",
    "    </div>\n",
    "</li>\n",
    "```"
   ]
  },
  {
   "cell_type": "code",
   "execution_count": 1,
   "metadata": {},
   "outputs": [
    {
     "name": "stdout",
     "output_type": "stream",
     "text": [
      "Collecting bs4\n",
      "  Using cached bs4-0.0.1.tar.gz (1.1 kB)\n",
      "  Preparing metadata (setup.py) ... \u001b[?25ldone\n",
      "\u001b[?25hCollecting beautifulsoup4\n",
      "  Using cached beautifulsoup4-4.10.0-py3-none-any.whl (97 kB)\n",
      "Collecting soupsieve>1.2\n",
      "  Downloading soupsieve-2.3.1-py3-none-any.whl (37 kB)\n",
      "Using legacy 'setup.py install' for bs4, since package 'wheel' is not installed.\n",
      "Installing collected packages: soupsieve, beautifulsoup4, bs4\n",
      "    Running setup.py install for bs4 ... \u001b[?25ldone\n",
      "\u001b[?25hSuccessfully installed beautifulsoup4-4.10.0 bs4-0.0.1 soupsieve-2.3.1\n"
     ]
    }
   ],
   "source": [
    "!pip install bs4"
   ]
  },
  {
   "cell_type": "code",
   "execution_count": 2,
   "metadata": {},
   "outputs": [],
   "source": [
    "sample_xml = '''\n",
    "<article>\n",
    "    <info>\n",
    "        <title>Some title</title>\n",
    "        <authors>\n",
    "            <author>\n",
    "                <firstname>Jakub</firstname>\n",
    "                <lastname>Kanclerz</lastname>\n",
    "            </author>\n",
    "        </authors>\n",
    "    </info>\n",
    "    <content>\n",
    "        <section type=\"header\">\n",
    "            <paragraph>\n",
    "                some title\n",
    "            </paragraph>\n",
    "        </section>\n",
    "        <section type=\"main\">\n",
    "            <paragraph>\n",
    "                some content\n",
    "            </paragraph>\n",
    "            <image src=\"image/src.jpeg\"/>\n",
    "        </section>\n",
    "    </content>\n",
    "</article>\n",
    "'''"
   ]
  },
  {
   "cell_type": "code",
   "execution_count": 3,
   "metadata": {},
   "outputs": [],
   "source": [
    "import requests\n",
    "from bs4 import BeautifulSoup as bs\n",
    "from itertools import chain"
   ]
  },
  {
   "cell_type": "code",
   "execution_count": 4,
   "metadata": {},
   "outputs": [],
   "source": [
    "loaded = bs(sample_xml)"
   ]
  },
  {
   "cell_type": "code",
   "execution_count": 5,
   "metadata": {},
   "outputs": [],
   "source": [
    "soups = loaded.select('author firstname')"
   ]
  },
  {
   "cell_type": "code",
   "execution_count": 6,
   "metadata": {},
   "outputs": [
    {
     "name": "stdout",
     "output_type": "stream",
     "text": [
      "Jakub\n"
     ]
    }
   ],
   "source": [
    "print(soups[0].text)"
   ]
  },
  {
   "cell_type": "markdown",
   "metadata": {},
   "source": [
    "### Webscrapping"
   ]
  },
  {
   "cell_type": "markdown",
   "metadata": {},
   "source": [
    "### Lista sklepów biedronka\n",
    "[https://www.biedronka.pl/pl/sklepy/lista](https://www.biedronka.pl/pl/sklepy/lista)"
   ]
  },
  {
   "cell_type": "code",
   "execution_count": 172,
   "metadata": {},
   "outputs": [],
   "source": [
    "import requests\n",
    "import itertools\n",
    "from collections import namedtuple"
   ]
  },
  {
   "cell_type": "code",
   "execution_count": 173,
   "metadata": {},
   "outputs": [],
   "source": [
    "URL_TEMPLATE = \"https://www.biedronka.pl/pl/sklepy/lista,page,{}\"\n",
    "URL_TEMPLATE = \"https://www.biedronka.pl/pl/sklepy/lista,city,krakow,page,{}\"\n",
    "PAGES_TO_SCAN = 10\n",
    "#PAGES_TO_SCAN = 160"
   ]
  },
  {
   "cell_type": "code",
   "execution_count": 186,
   "metadata": {},
   "outputs": [],
   "source": [
    "urls = [URL_TEMPLATE.format(p) for p in range(1, PAGES_TO_SCAN)]"
   ]
  },
  {
   "cell_type": "code",
   "execution_count": 187,
   "metadata": {},
   "outputs": [],
   "source": [
    "responses = (requests.get(url) for url in urls)"
   ]
  },
  {
   "cell_type": "code",
   "execution_count": 188,
   "metadata": {},
   "outputs": [],
   "source": [
    "contents = (r.text for r in responses)"
   ]
  },
  {
   "cell_type": "code",
   "execution_count": 189,
   "metadata": {},
   "outputs": [],
   "source": [
    "soups = (bs(html_content) for html_content in contents)"
   ]
  },
  {
   "cell_type": "code",
   "execution_count": 190,
   "metadata": {},
   "outputs": [],
   "source": [
    "Shop = namedtuple('Shop', ['city', 'zip', 'street'])"
   ]
  },
  {
   "cell_type": "code",
   "execution_count": 191,
   "metadata": {},
   "outputs": [],
   "source": [
    "example_shop_element = '''\n",
    "<h4 style=\"margin-bottom: 10px;\">\n",
    "    Rzeszów            \t<span class=\"shopFullAddress\">\n",
    "        <span class=\"shopAddress\">\n",
    "            35-078<br>\n",
    "            Hetmańska 56                    </span>\n",
    "    </span>\n",
    "</h4>\n",
    "'''"
   ]
  },
  {
   "cell_type": "code",
   "execution_count": 192,
   "metadata": {},
   "outputs": [],
   "source": [
    "def extract_shop(soup):\n",
    "    try:\n",
    "        # Extract city name\n",
    "        city = (\n",
    "            soup.select_one('div.header h4 a').text.strip()\n",
    "        )\n",
    "    except Exception:\n",
    "        city = None\n",
    "\n",
    "    try:\n",
    "        # Extract address\n",
    "        address = (\n",
    "            soup.select_one('p.shopAddress').text.strip()\n",
    "        )\n",
    "    except Exception:\n",
    "        address = None\n",
    "\n",
    "    try:\n",
    "        # Extract ZIP code\n",
    "        zip_code = (\n",
    "            soup.select_one('p.zipCode').text.strip()\n",
    "        )\n",
    "    except Exception:\n",
    "        zip_code = None\n",
    "\n",
    "    return Shop(city, zip_code, address)"
   ]
  },
  {
   "cell_type": "code",
   "execution_count": 193,
   "metadata": {},
   "outputs": [],
   "source": [
    "assert extract_shop(bs(example_shop_element)) == Shop('Kraków', '30-211', 'Piastowska 49')"
   ]
  },
  {
   "cell_type": "code",
   "execution_count": 194,
   "metadata": {},
   "outputs": [
    {
     "data": {
      "text/plain": [
       "Shop(city='Rzeszów', zip='35-078', street='Hetmańska 56')"
      ]
     },
     "execution_count": 194,
     "metadata": {},
     "output_type": "execute_result"
    }
   ],
   "source": [
    "extract_shop(bs(example_shop_element))"
   ]
  },
  {
   "cell_type": "code",
   "execution_count": 195,
   "metadata": {},
   "outputs": [],
   "source": [
    "shop_soups_batch = (soup.select('ul.shopList li.shopListElement ') for soup in soups)"
   ]
  },
  {
   "cell_type": "code",
   "execution_count": 196,
   "metadata": {},
   "outputs": [],
   "source": [
    "shop_soups = itertools.chain.from_iterable(shop_soups_batch)"
   ]
  },
  {
   "cell_type": "code",
   "execution_count": 197,
   "metadata": {},
   "outputs": [],
   "source": [
    "shops = (extract_shop(soup) for soup in shop_soups)"
   ]
  },
  {
   "cell_type": "code",
   "execution_count": 198,
   "metadata": {},
   "outputs": [],
   "source": [
    "shop_as_list = list(shops)"
   ]
  },
  {
   "cell_type": "code",
   "execution_count": 199,
   "metadata": {},
   "outputs": [
    {
     "data": {
      "text/plain": [
       "[Shop(city='Rzeszów', zip='35-078', street='Hetmańska 56'),\n",
       " Shop(city='Kraśnik', zip='23-200', street='Urzędowska 472'),\n",
       " Shop(city='Medyka', zip='37-732', street='Przejście graniczne 405'),\n",
       " Shop(city='Police', zip='72-011', street='Głowackiego 10'),\n",
       " Shop(city='Szczecin', zip='70-781', street='Pomarańczowa 9'),\n",
       " Shop(city='Szczecin', zip='70-747', street='Karpia 1'),\n",
       " Shop(city='Myślibórz', zip='74-300', street='Lipowa 7'),\n",
       " Shop(city='Szczecin', zip='71-123', street='Stanisława Ignacego Witkiewicza 41'),\n",
       " Shop(city='Gorzów Wielkopolski', zip='66-400', street='Matejki 46'),\n",
       " Shop(city='Otwock', zip='05-400', street='Kołłątaja 61')]"
      ]
     },
     "execution_count": 199,
     "metadata": {},
     "output_type": "execute_result"
    }
   ],
   "source": [
    "shop_as_list[:10]"
   ]
  },
  {
   "cell_type": "markdown",
   "metadata": {},
   "source": [
    "## Utrwalenie rezultatów"
   ]
  },
  {
   "cell_type": "code",
   "execution_count": 200,
   "metadata": {},
   "outputs": [],
   "source": [
    "import csv\n",
    "with open('var/biedronkas.csv', 'w') as destination_file:\n",
    "    writer = csv.writer(destination_file, delimiter=';', quotechar='\"')\n",
    "    for row in shop_as_list:\n",
    "        writer.writerow(row)"
   ]
  },
  {
   "cell_type": "code",
   "execution_count": 204,
   "metadata": {},
   "outputs": [
    {
     "name": "stdout",
     "output_type": "stream",
     "text": [
      "Rzeszów;35-078;Hetmańska 56\r\n",
      "\r\n",
      "Kraśnik;23-200;Urzędowska 472\r\n",
      "\r\n",
      "Medyka;37-732;Przejście graniczne 405\r\n",
      "\r\n",
      "Police;72-011;Głowackiego 10\r\n",
      "\r\n",
      "Szczecin;70-781;Pomarańczowa 9\r\n",
      "\r\n"
     ]
    }
   ],
   "source": [
    "!cat var/biedronkas.csv | head -n 5"
   ]
  },
  {
   "cell_type": "code",
   "execution_count": 205,
   "metadata": {},
   "outputs": [],
   "source": [
    "import json\n",
    "with open('var/biedronkas.data', 'w') as destination_file:\n",
    "    for row in shop_as_list:\n",
    "        destination_file.write(json.dumps(row._asdict()) + \"\\n\")"
   ]
  },
  {
   "cell_type": "code",
   "execution_count": 206,
   "metadata": {},
   "outputs": [
    {
     "name": "stdout",
     "output_type": "stream",
     "text": [
      "{\"city\": \"Rzesz\\u00f3w\", \"zip\": \"35-078\", \"street\": \"Hetma\\u0144ska 56\"}\r\n",
      "{\"city\": \"Kra\\u015bnik\", \"zip\": \"23-200\", \"street\": \"Urz\\u0119dowska 472\"}\r\n",
      "{\"city\": \"Medyka\", \"zip\": \"37-732\", \"street\": \"Przej\\u015bcie graniczne 405\"}\r\n",
      "{\"city\": \"Police\", \"zip\": \"72-011\", \"street\": \"G\\u0142owackiego 10\"}\r\n",
      "{\"city\": \"Szczecin\", \"zip\": \"70-781\", \"street\": \"Pomara\\u0144czowa 9\"}\r\n"
     ]
    }
   ],
   "source": [
    "!cat var/biedronkas.data | head -n 5"
   ]
  },
  {
   "cell_type": "markdown",
   "metadata": {},
   "source": [
    "## Czy posiadając adres potrafisz ustali geolokalizację konkretnego sklepu?\n",
    "\n",
    "https://letmegooglethat.com/?q=openstreet+map+geocoding\n",
    "\n",
    "https://www.geoapify.com/openstreetmap-geocoding\n",
    "https://apidocs.geoapify.com/playground/geocoding/\n",
    "\n",
    "lub ``Don't Reinvent The Wheel`` ``* Unless You Plan on Learning More About Wheels`\n",
    "https://geocoder.readthedocs.io/providers/OpenStreetMap.html\n",
    "\n",
    "### Zadanie, \n",
    "Wykorzystaj zbiór danych o adresach sieci sklepów biedronka "
   ]
  },
  {
   "cell_type": "code",
   "execution_count": 217,
   "metadata": {},
   "outputs": [],
   "source": [
    "import pickle"
   ]
  },
  {
   "cell_type": "code",
   "execution_count": 220,
   "metadata": {},
   "outputs": [
    {
     "ename": "TypeError",
     "evalue": "write() argument must be str, not bytes",
     "output_type": "error",
     "traceback": [
      "\u001b[0;31m---------------------------------------------------------------------------\u001b[0m",
      "\u001b[0;31mTypeError\u001b[0m                                 Traceback (most recent call last)",
      "\u001b[0;32m/var/folders/j0/p37k07nj23b114ppnwfsj45m0000gn/T/ipykernel_2444/1386837647.py\u001b[0m in \u001b[0;36m<module>\u001b[0;34m\u001b[0m\n\u001b[1;32m      1\u001b[0m \u001b[0;32mwith\u001b[0m \u001b[0mopen\u001b[0m\u001b[0;34m(\u001b[0m\u001b[0;34m'var/biedronkas.pickle'\u001b[0m\u001b[0;34m,\u001b[0m \u001b[0;34m'w'\u001b[0m\u001b[0;34m)\u001b[0m \u001b[0;32mas\u001b[0m \u001b[0mf\u001b[0m\u001b[0;34m:\u001b[0m\u001b[0;34m\u001b[0m\u001b[0;34m\u001b[0m\u001b[0m\n\u001b[0;32m----> 2\u001b[0;31m     \u001b[0mpickle\u001b[0m\u001b[0;34m.\u001b[0m\u001b[0mdump\u001b[0m\u001b[0;34m(\u001b[0m\u001b[0mshop_as_list\u001b[0m\u001b[0;34m,\u001b[0m \u001b[0mf\u001b[0m\u001b[0;34m)\u001b[0m\u001b[0;34m\u001b[0m\u001b[0;34m\u001b[0m\u001b[0m\n\u001b[0m",
      "\u001b[0;31mTypeError\u001b[0m: write() argument must be str, not bytes"
     ]
    }
   ],
   "source": [
    "with open('var/biedronkas.pickle', 'w') as f:\n",
    "    pickle.dump(shop_as_list, f)"
   ]
  },
  {
   "cell_type": "code",
   "execution_count": 221,
   "metadata": {},
   "outputs": [],
   "source": [
    "with open('var/biedronkas.pickle', 'wb') as f:\n",
    "    pickle.dump(shop_as_list, f)"
   ]
  },
  {
   "cell_type": "code",
   "execution_count": 223,
   "metadata": {},
   "outputs": [
    {
     "name": "stdout",
     "output_type": "stream",
     "text": [
      "�\u0004�� \u0000\u0000\u0000\u0000\u0000\u0000]�(�\b__main__��\u0004Shop����\bRzeszów��\u000635-078��\r\n",
      "Hetmańska 56�����h\u0003�\bKraśnik��\u000623-200��\u000fUrzędowska 472�����h\u0003�\u0006Medyka��\u000637-732��\u0018Przejście graniczne 405�����h\u0003�\u0006Police��\u000672-011��\u000fGłowackiego 10�����h\u0003�\bSzczecin��\u000670-781��\u000fPomarańczowa 9�����h\u0003�\bSzczecin��\u000670-747��\bKarpia 1�����h\u0003�\u000b\n",
      "Myślibórz��\u000674-300��\bLipowa 7�����h\u0003�\bSzczecin��\u000671-123��#Stanisława Ignacego Witkiewicza 41�����h\u0003�\u0014Gorzów Wielkopolski��\u000666-400��\r\n",
      "Matejki 46�����h\u0003�\u0006Otwock��\u000605-400��\u000fKołłątaja 61�����h\u0003�\bSzczecin��\u000671-610��\u0018ul. Stanisława Dubois 5�����h\u0003�\u0014Gorzów Wielkopolski��\u000666-400��\u0010Popławskiego 72�����h\u0003�\tPruszków��\u000605-800��\u0017Aleje Jerozolimskie 454�����h\u0003�\bSzczecin��\u000671-684��\u000b\n",
      "Obotrycka 6�����h\u0003�\bSzczecin��\u000671-017��\f\n",
      "Krakowska 67�����h\u0003�\u0007Mierzyn��\u000672-006��\tWelecka 2�����h\u0003�\bSzczecin��\u000670-841��\u0012ul. Goleniowska 87�����h\u0003�\f\n",
      "Józefosław��\u000605-509��\u000fJulianowska 57A�����h\u0003�\bSzczecin��\u000670-473��\u0013Wojska Polskiego 31�����h\u0003�\bSzczecin��\u000671-270��\u0016Klemensa Janickiego 24�����h\u0003�\bSzczecin��\u000671-073��\u0012al. Piastów 22/U1�����h\u0003�\bSzczecin��\u000670-880��\f\n",
      "Bałtycka 25�����h\u0003�\bJawczyce��\u000605-850��\u0013Ulica Poznańska 74�����h\u0003�\bSzczecin��\u000671-637��\u0018Ulica Teofila Firlika 42�����h\u0003�\bSzczecin��\u000671-804��\r\n",
      "Ogrodnicza 47�����h\u0003�\tPiaseczno��\u000605-500��\u000b\n",
      "Dworcowa 21�����h\u0003�\u0013Grodzisk Mazowiecki��\u000605-827��\f\n",
      "Okrężna 51�����h\u0003�\bSzczecin��\u000671-154��\u0014Joachima Lelewela 8A�����h\u0003�\bSzczecin��\u000671-784��\u0010Maciejkowa 37-39�����h\u0003�\bSzczecin��\u000671-646��\u0013Pawła Stalmacha 12�����h\u0003�\bWarszawa��\u000601-318��\u0016Stanisława Szobera 3A�����h\u0003�\bWarszawa��\u000601-314��\bWyki 11B�����h\u0003�\bWarszawa��\u000601-354��\u0019Powstańców Śląskich 9�����h\u0003�\bWarszawa��\u000603-186��\u000eModlińska 158�����h\u0003�\bWarszawa��\u000601-903��\u0015Marii Dąbrowskiej 15�����h\u0003�\u0007Poznań��\u000660-381��\u0012Bułgarska 121/123�����h\u0003�\u0007Kraków��\u000630-211��\r\n",
      "Piastowska 49�����h\u0003�\bWarszawa��\u000602-307��\u001d\n",
      "Juliana Ursyna Niemcewicza 26�����h\u0003�\bWarszawa��\u000604-365��\u000ePruszkowska 4D�����h\u0003�\bWarszawa��\u000603-984��\u000fZłotej Wilgi 2�����h\u0003�\bWarszawa��\u000604-186��\u0012Grochowska 338/340�����h\u0003�\bWarszawa��\u000603-813��\r\n",
      "Wiatraczna 15�����h\u0003�\bWarszawa��\u000603-301��\u0010Jagiellońska 82�����h\u0003�\bWarszawa��\u000603-371��\u0014Piotra Wysockiego 10�����h\u0003�\bWarszawa��\u000604-844��\u000ePatriotów 110�����h\u0003�\bWarszawa��\u000605-077��\u0010Trakt Brzeski 73�����h\u0003�\bWarszawa��\u000601-102��\u0011Jana Olbrachta 46�����h\u0003�\bWarszawa��\u000601-248��\u0012Jana Kazimierza 62�����h\u0003�\u0015Nowy Dwór Mazowiecki��\u000605-101��\r\n",
      "Mazowiecka 15�����h\u0003�\tLegionowo��\u000605-119��\r\n",
      "Zegrzyńska 5�����h\u0003�\bKobyłka��\u000605-230��\u0010ul. Napoleona 1B�����h\u0003�\f\n",
      "Stare Babice��\u000605-082��\u000eWarszawska 291�����h\u0003�\tLegionowo��\u000605-120�� Generała Józefa Sowińskiego 2�����h\u0003�\bWarszawa��\u000604-987��\u0017Wał Miedzeszyński 106�����h\u0003�\bZielonka��\u000605-220��\u000b\n",
      "Kolejowa 10�����h\u0003�\u0006Ząbki��\u000605-091��\u000b\n",
      "Reymonta 28�����h\u0003�\u0007Poznań��\u000660-419��\u0011Dąbrowskiego 399�����h\u0003�\tŁomianki��\u000605-092��\r\n",
      "Warszawska 76�����h\u0003�\u0006Ząbki��\u000605-091��\u000b\n",
      "Wolności 3�����h\u0003�\bWarszawa��\u000600-773��\u0007Dolna 3�����h\u0003�\bWarszawa��\u000602-776��\r\n",
      "Hirszfelda 2A�����h\u0003�\u0011Szklarska Poręba��\u000658-580��\u000fKilińskiego 11�����h\u0003�\bWarszawa��\u000605-075��\r\n",
      "Niemcewicza 8�����h\u0003�\bWarszawa��\u000603-995��\f\n",
      "Bronowska 5A�����h\u0003�\bWarszawa��\u000603-922��\u0012Międzynarodowa 68�����h\u0003�\bPłońsk��\u000609-100��\u0010Rzemieślnicza 4�����h\u0003�\bWarszawa��\u000600-844��\r\n",
      "Grzybowska 61�����h\u0003�\u0007Łódź��\u000691-446��\u000b\n",
      "Zgierska 15�����h\u0003�\u0007Łódź��\u000691-843��\u000b\n",
      "Kowalska 2A�����h\u0003�\u0007Łódź��\u000691-446��\u000b\n",
      "Zgierska 53�����h\u0003�\bWrocław��\u000654-002��\u0011Trzmielowicka 7/9�����h\u0003�\bWrocław��\u000654-155��\u000b\n",
      "Lotnicza 24�����h\u0003�\bWrocław��\u000654-017��\u000b\n",
      "Średzka 32�����h\u0003�\u0007Poznań��\u000660-341��\u000fMarcelińska 77�����h\u0003�\u0007Poznań��\u000660-771��\r\n",
      "Matejki 62�����h\u0003�\u0007Poznań��\u000660-162��\r\n",
      "Szadecka 2�����h\u0003�\u0007Poznań��\u000660-644��\r\n",
      "Sokoła 26�����h\u0003�\u0007Kraków��\u000631-229��\u0017Henryka Pachońskiego 8�����h\u0003�\bWrocław��\u000653-344��\u000fKomandorska 147�����h\u0003�\bWrocław��\u000653-022��\r\n",
      "Wawrzyniaka 2�����h\u0003�\bWrocław��\u000650-541��\u0017aleja Armii Krajowej 37�����h\u0003�\bWrocław��\u000653-019��\u000b\n",
      "Krzycka 45A�����h\u0003�\u0007Kraków��\u000631-867��\u0019os. 2 Pułku Lotniczego 1�����h\u0003�\u0007Poznań��\u000661-148��\u0012os. Piastowskie 22�����h\u0003�\u0007Poznań��\u000661-227��\u0015os. Jagiellońskie 14�����h\u0003�\u0007Poznań��\u000661-289��\r\n",
      "os. Czecha 73�����h\u0003�\u0007Poznań��\u000661-361��\r\n",
      "Książęca 1�����h\u0003�\u0007Poznań��\u000661-341��\u000eStarołęcka 1�����h\u0003�\u0007Kraków��\u000630-836��\u0019Erazma Jerzmanowskiego 12�����h\u0003�\u0007Kraków��\u000630-656��#Marii i Bolesława Wysłouchów 22A�����h\u0003�\u0007Kraków��\u000630-415��\u0010ul. Rydlówka 10�����h\u0003�\u0007Kraków��\u000630-707��\u001e\n",
      "Powstańców Wielkopolskich 18�����h\u0003�\u0007Łódź��\u000690-245��*ul. 28 Pułku Strzelców Kaniowskich 61/63�����h\u0003�\u0007Łódź��\u000690-737��\u0017Stefana Żeromskiego 32�����h\u0003�\bWrocław��\u000651-206��\r\n",
      "Wilanowska 25�����h\u0003�\bWrocław��\u000651-114��\r\n",
      "Bezpieczna 19�����h\u0003�\u0007Poznań��\u000661-652��\u0013os. Zwycięstwa 110�����h\u0003�\u0007Poznań��\u000660-681��\u001c\n",
      "os. Bolesława Chrobrego 110�����h\u0003�\u0007Poznań��\u000661-807��\u0015Święty Marcin 66/72�����h\u0003�\u0007Poznań��\u000662-680��\u0014Stróżyńskiego 21A�����h\u0003�\bWrocław��\u000650-315��\u000eNowowiejska 48�����h\u0003�\u0007Łódź��\u000691-312��\bTuwima 3�����h\u0003�\u0007Kraków��\u000631-422��\u000ePowstańców 3�����h\u0003�\bWrocław��\u000650-261��\u0019Jedności Narodowej 72/80�����h\u0003�\u0007Łódź��\u000691-403��\u0007Tamka 3�����h\u0003�\u0007Łódź��\u000692-432��\u0010Skrzetuskiego 11�����h\u0003�\u0007Łódź��\u000692-502��\bHaška 1�����h\u0003�\u0007Łódź��\u000693-286��\u0012Przędzalniana 124�����h\u0003�\u0007Poznań��\u000661-408��\f\n",
      "Jesionowa 16�����h\u0003�\u0007Poznań��\u000661-538��\u0010Czarnieckiego 12�����h\u0003�\r\n",
      "Świnoujście��\u000672-600��\u0011Nowokarsiborska 2�����h\u0003�\u0007Gostyń��\u000663-800��\r\n",
      "Łąkowa 3�����h\u0003�\tWrześnia��\u000662-300��\r\n",
      "Opieszyn 7�����h\u0003�\f\n",
      "Nowy Tomyśl��\u000664-300��\bWitosa 7�����h\u0003�\u0007Jarocin��\u000663-200��\u001e\n",
      "Powstańców Wielkopolskich 40�����h\u0003�\bWolsztyn��\u000664-200��\u000fPrzemysłowa 10�����h\u0003�\u0005Piła��\u000664-920��$Aleja Powstańców Wielkopolskich 68�����h\u0003�\u0006Syców��\u000656-500��\r\n",
      "Kolejowa 2�����h\u0003�\f\n",
      "Głuchołazy��\u000648-340��\tNorwida 2�����h\u0003�\tChełmża��\u000687-140��%Generała Władysława Sikorskiego 30�����h\u0003�\tNowa Ruda��\u000657-400��\f\n",
      "Teatralna 18�����h\u0003�\bKatowice��\u000640-645��\u000eRadockiego 150�����h\u0003�\r\n",
      "Ruda Śląska��\u000641-700��\u001aCypriana Kamila Norwida 26�����h\u0003�\tSwarzędz��\u000662-020��\u0012os. Czwartaków 13�����h\u0003�\f\n",
      "Busko Zdrój��\u000628-100��\u001bAleja Adama Mickiewicza 14A�����h\u0003�\u0007Lębork��\u000684-300��\u000fWaryńskiego 18�����h\u0003�\u000b\n",
      "Włocławek��\u000687-800��\u0011Zbiegniewskiej 19�����h\u0003�\u000b\n",
      "Myślibórz��\u000674-300��\u0014Niedziałkowskiego 4�����h\u0003�\bZamość��\u000622-400��\u0012Jana Zamoyskiego 6�����h\u0003�\u0006Toruń��\u000687-100��\u0014Adama Mickiewicza 75�����h\u0003�\tHajnówka��\u000617-200��\t3 Maja 62�����h\u0003�\u0005Łask��\u000698-100��\u0010Jana Pawła II 7�����h\u0003�\bKłodzko��\u000657-300��\u000eGrunwaldzka 18�����h\u0003�\bCzeladź��\u000641-250��\u000b\n",
      "Szpitalna 8�����h\u0003�\u0007Gryfice��\u000672-300��\u000b\n",
      "Sportowa 12�����h\u0003�\u0010Lwówek Śląski��\u000659-600��\u000eOrzeszkowej 17�����h\u0003�\u000b\n",
      "Koziegłowy��\u000662-028��\r\n",
      "Piaskowa 7�����h\u0003�\u000b\n",
      "Szydłowiec��\u000626-500��\u000b\n",
      "Staszica 17�����h\u0003�\u0015Grodzisk Wielkopolski��\u000662-065��\r\n",
      "27 Stycznia 4�����h\u0003�\r\n",
      "Głubczyce��\u000648-100��\f\n",
      "pl. 1 Maja 1�����h\u0003�\u0006Lublin��\u000620-863��\r\n"
     ]
    }
   ],
   "source": [
    "!cat var/biedronkas.pickle | head"
   ]
  }
 ],
 "metadata": {
  "kernelspec": {
   "display_name": "Python 3.10.8 64-bit",
   "language": "python",
   "name": "python3"
  },
  "language_info": {
   "codemirror_mode": {
    "name": "ipython",
    "version": 3
   },
   "file_extension": ".py",
   "mimetype": "text/x-python",
   "name": "python",
   "nbconvert_exporter": "python",
   "pygments_lexer": "ipython3",
   "version": "3.10.8"
  },
  "vscode": {
   "interpreter": {
    "hash": "aee8b7b246df8f9039afb4144a1f6fd8d2ca17a180786b69acc140d282b71a49"
   }
  }
 },
 "nbformat": 4,
 "nbformat_minor": 2
}
