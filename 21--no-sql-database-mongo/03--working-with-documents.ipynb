{
 "cells": [
  {
   "cell_type": "markdown",
   "metadata": {},
   "source": [
    "[![Open In Colab](https://colab.research.google.com/assets/colab-badge.svg)](https://githubtocolab.com/jkanclerz/data-science-workshop-2024/blob/main/21--no-sql-database-mongo/03--working-with-documents.ipynb)"
   ]
  },
  {
   "cell_type": "markdown",
   "metadata": {},
   "source": [
    "## Install MongoDB"
   ]
  },
  {
   "cell_type": "code",
   "execution_count": null,
   "metadata": {},
   "outputs": [],
   "source": [
    "!curl -fsSL https://pgp.mongodb.com/server-7.0.asc | \\\n",
    "   sudo gpg -o /usr/share/keyrings/mongodb-server-7.0.gpg \\\n",
    "   --dearmor\n",
    "!echo \"deb [ arch=amd64,arm64 signed-by=/usr/share/keyrings/mongodb-server-7.0.gpg ] https://repo.mongodb.org/apt/ubuntu jammy/mongodb-org/7.0 multiverse\" > /etc/apt/sources.list.d/mongodb-org-7.0.list\n",
    "!sudo apt-get update && sudo apt install mongodb-org\n",
    "!mkdir -p /data/db\n",
    "!/usr/bin/mongod --dbpath /data/db --fork --syslog"
   ]
  },
  {
   "cell_type": "markdown",
   "metadata": {},
   "source": [
    "## Docs\n",
    "\n",
    "https://pymongo.readthedocs.io/en/stable/tutorial.html\n",
    "\n",
    "* https://docs.mongodb.com/manual/crud/\n",
    "* https://docs.mongodb.com/manual/aggregation/\n",
    "* https://docs.mongodb.com/manual/reference/operator/query/\n",
    "\n",
    "## Mongo Atlas\n",
    "\n",
    "https://www.mongodb.com/"
   ]
  },
  {
   "cell_type": "code",
   "execution_count": null,
   "metadata": {},
   "outputs": [],
   "source": [
    "pip install pymongo"
   ]
  },
  {
   "cell_type": "code",
   "execution_count": null,
   "metadata": {},
   "outputs": [],
   "source": []
  },
  {
   "cell_type": "code",
   "execution_count": null,
   "metadata": {},
   "outputs": [],
   "source": [
    "from pymongo import MongoClient\n",
    "from pprint import pprint as pp\n",
    "client = MongoClient('mongodb://localhost:27017')"
   ]
  },
  {
   "cell_type": "code",
   "execution_count": null,
   "metadata": {},
   "outputs": [],
   "source": [
    "db = client.ecommerce\n",
    "db.inventory.delete_many({})"
   ]
  },
  {
   "cell_type": "markdown",
   "metadata": {},
   "source": [
    "## create"
   ]
  },
  {
   "cell_type": "code",
   "execution_count": null,
   "metadata": {},
   "outputs": [],
   "source": [
    "res = db.inventory.insert_one(\n",
    "    {\n",
    "        \"Item\": \"Ruler\",\n",
    "        \"Colors\": [\"Red\",\"Green\",\"Blue\",\"Clear\",\"Yellow\"],\n",
    "        \"Inventory\": {\n",
    "            \"OnHand\": 47,\n",
    "            \"MinOnHand\": 40\n",
    "        },\n",
    "        \"UnitPrice\": 0.89\n",
    "    }\n",
    ")"
   ]
  },
  {
   "cell_type": "code",
   "execution_count": null,
   "metadata": {},
   "outputs": [],
   "source": [
    "from pprint import pprint as pp"
   ]
  },
  {
   "cell_type": "code",
   "execution_count": null,
   "metadata": {},
   "outputs": [],
   "source": [
    "pp(res.inserted_id)"
   ]
  },
  {
   "cell_type": "markdown",
   "metadata": {},
   "source": [
    "## many"
   ]
  },
  {
   "cell_type": "code",
   "execution_count": null,
   "metadata": {},
   "outputs": [],
   "source": [
    "res = db.inventory.insert_many(\n",
    "    [\n",
    "        {\n",
    "            \"Item\": \"Pen\",\n",
    "            \"Colors\": [\"Red\",\"Green\",\"Blue\",\"Black\"],\n",
    "            \"Inventory\": {\n",
    "                \"OnHand\": 244,\n",
    "                \"MinOnHand\": 72 \n",
    "            }\n",
    "        },\n",
    "        {\n",
    "            \"Item\": \"Poster Paint\",\n",
    "            \"Colors\": [\"Red\",\"Green\",\"Blue\",\"Black\",\"White\"],\n",
    "            \"Inventory\": {\n",
    "                \"OnHand\": 47,\n",
    "                \"MinOnHand\": 50 \n",
    "            }\n",
    "        },\n",
    "        {\n",
    "            \"Item\": \"Spray Paint\",\n",
    "            \"Colors\": [\"Black\",\"Red\",\"Green\",\"Blue\"],\n",
    "            \"Inventory\": {\n",
    "                \"OnHand\": 47,\n",
    "                \"MinOnHand\": 50,\n",
    "                \"OrderQnty\": 36\n",
    "            }\n",
    "        }    \n",
    "    ]\n",
    ")"
   ]
  },
  {
   "cell_type": "code",
   "execution_count": null,
   "metadata": {},
   "outputs": [],
   "source": [
    "pp(res.inserted_ids), pp(res.acknowledged)"
   ]
  },
  {
   "cell_type": "markdown",
   "metadata": {},
   "source": [
    "## query"
   ]
  },
  {
   "cell_type": "code",
   "execution_count": null,
   "metadata": {},
   "outputs": [],
   "source": [
    "c = db.inventory.find( { \"Item\": \"Pen\" } )\n",
    "pp(list(c))"
   ]
  },
  {
   "cell_type": "markdown",
   "metadata": {},
   "source": [
    "## matching nested"
   ]
  },
  {
   "cell_type": "code",
   "execution_count": null,
   "metadata": {},
   "outputs": [],
   "source": [
    "c = db.inventory.find( {\"Inventory\": {\n",
    "    \"OnHand\": 47,\n",
    "    \"MinOnHand\": 50 } } )\n",
    "pp(list(c))"
   ]
  },
  {
   "cell_type": "markdown",
   "metadata": {},
   "source": [
    "## matching nested values"
   ]
  },
  {
   "cell_type": "code",
   "execution_count": null,
   "metadata": {},
   "outputs": [],
   "source": [
    "c = db.inventory.find( {\"Inventory.OnHand\": 47, \"Inventory.MinOnHand\": 50 } )\n",
    "pp(list(c))"
   ]
  },
  {
   "cell_type": "markdown",
   "metadata": {},
   "source": [
    "## updates"
   ]
  },
  {
   "cell_type": "code",
   "execution_count": null,
   "metadata": {},
   "outputs": [],
   "source": [
    "db.inventory.update_one(\n",
    "    { \"Item\" : \"Pen\" },\n",
    "    { \"$set\": { \"Item\": \"Gel Pen\" } }\n",
    ")"
   ]
  }
 ],
 "metadata": {
  "kernelspec": {
   "display_name": "Python 3 (ipykernel)",
   "language": "python",
   "name": "python3"
  },
  "language_info": {
   "codemirror_mode": {
    "name": "ipython",
    "version": 3
   },
   "file_extension": ".py",
   "mimetype": "text/x-python",
   "name": "python",
   "nbconvert_exporter": "python",
   "pygments_lexer": "ipython3",
   "version": "3.9.8"
  }
 },
 "nbformat": 4,
 "nbformat_minor": 4
}
