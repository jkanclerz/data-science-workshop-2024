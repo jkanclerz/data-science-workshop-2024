{
 "cells": [
  {
   "cell_type": "markdown",
   "id": "7ecfadb2-69f2-4436-9c54-4a3cb092d5de",
   "metadata": {
    "id": "7ecfadb2-69f2-4436-9c54-4a3cb092d5de"
   },
   "source": [
    "### Vector search\n",
    "\n",
    "https://www.mongodb.com/docs/atlas/atlas-vector-search/vector-search-overview/#std-term-vector"
   ]
  },
  {
   "cell_type": "code",
   "execution_count": null,
   "id": "2fbe5154-5ccd-4a80-b2b7-abb56736ed80",
   "metadata": {
    "id": "2fbe5154-5ccd-4a80-b2b7-abb56736ed80"
   },
   "outputs": [],
   "source": [
    "mongo_dsn=\"putYourAddressHere\""
   ]
  },
  {
   "cell_type": "code",
   "execution_count": null,
   "id": "ca509929-0ebb-47da-a604-d46987b33df3",
   "metadata": {
    "id": "ca509929-0ebb-47da-a604-d46987b33df3",
    "outputId": "9a353c67-eac8-4b85-f108-46adedbce668"
   },
   "outputs": [],
   "source": [
    "pip install matplotlib seaborn scikit-learn"
   ]
  },
  {
   "cell_type": "code",
   "execution_count": null,
   "id": "be9c4edd-3941-41c2-b794-6c4bedff153e",
   "metadata": {
    "id": "be9c4edd-3941-41c2-b794-6c4bedff153e"
   },
   "outputs": [],
   "source": [
    "import numpy as np\n",
    "import matplotlib.pyplot as plt\n",
    "import seaborn as sns\n",
    "from matplotlib import offsetbox\n",
    "from sklearn import manifold, datasets, decomposition\n",
    "from pandas import pandas as pd"
   ]
  },
  {
   "cell_type": "markdown",
   "id": "29535df5-f177-4354-82d7-653d442af00a",
   "metadata": {},
   "source": [
    "## Akinator example"
   ]
  },
  {
   "cell_type": "code",
   "execution_count": null,
   "id": "9b80495b-2d18-44a5-8edf-72410e7997ae",
   "metadata": {},
   "outputs": [],
   "source": [
    "from collections import namedtuple\n",
    "\n",
    "Features = namedtuple(\"Feature\", [\"hair\", \"fat\", \"slim\", \"short\", \"tall\", \"like_honey\", \"live_in_forest\"])\n",
    "\n",
    "kubus = Features(0,1,0,1,0,1,1)\n",
    "prosiaczek = Features(0,0,1,1,0,0,1)\n",
    "osiol = Features(1,1,0,0,0,0,1)\n",
    "\n",
    "answers = Features(1,1,0,0,1,1,1)\n",
    "\n",
    "#[no, probably_no, idk, probably_yes, yes] = [-1, -0.5, 0, 0.5, 1]\n"
   ]
  },
  {
   "cell_type": "code",
   "execution_count": null,
   "id": "dc7752f7-6fcc-4b8f-9ccc-8a4db8ed3fc6",
   "metadata": {},
   "outputs": [],
   "source": [
    "from scipy.spatial.distance import cosine"
   ]
  },
  {
   "cell_type": "markdown",
   "id": "c637ec35-3bff-4eb0-a915-5b947918503c",
   "metadata": {},
   "source": [
    "## No distance"
   ]
  },
  {
   "cell_type": "code",
   "execution_count": null,
   "id": "e2fb1a40-c761-4a63-9de7-d3d0c2401873",
   "metadata": {},
   "outputs": [],
   "source": [
    "cosine(kubus, kubus)"
   ]
  },
  {
   "cell_type": "markdown",
   "id": "4d9a8966-a15e-498d-b145-8a181f150149",
   "metadata": {},
   "source": [
    "## some distance"
   ]
  },
  {
   "cell_type": "code",
   "execution_count": null,
   "id": "3ef8005b-af4f-4c25-943f-8d81fd68212e",
   "metadata": {},
   "outputs": [],
   "source": [
    "cosine(kubus, prosiaczek)"
   ]
  },
  {
   "cell_type": "code",
   "execution_count": null,
   "id": "2c062f44-2d3c-4d05-a411-e62472b1ce28",
   "metadata": {},
   "outputs": [],
   "source": [
    "cosine(answers, kubus)"
   ]
  },
  {
   "cell_type": "code",
   "execution_count": null,
   "id": "5e067905-6c2e-45da-9eeb-3525808cd936",
   "metadata": {},
   "outputs": [],
   "source": [
    "cosine(answers, prosiaczek)"
   ]
  },
  {
   "cell_type": "code",
   "execution_count": null,
   "id": "2abc4581-5a24-4734-8050-a66ca16bc6c7",
   "metadata": {},
   "outputs": [],
   "source": [
    "characters = [('kubus', kubus), ('prosiaczek', prosiaczek), ('osiol', osiol)]\n",
    "\n",
    "def guess_character(answer):\n",
    "    distances = [(character, cosine(answer, features)) for character, features in characters]\n",
    "    sorted_distances = sorted(distances, key=lambda x: x[1])\n",
    "    return \"Your character is...: {}\".format(sorted_distances[0][0])"
   ]
  },
  {
   "cell_type": "code",
   "execution_count": null,
   "id": "c8fe3bc7-6f24-4bef-b2e5-e0024f30955c",
   "metadata": {},
   "outputs": [],
   "source": [
    "guess_character(answers)"
   ]
  },
  {
   "cell_type": "markdown",
   "id": "13e5cdb4-6d07-40e5-b650-ba73e5d4b88b",
   "metadata": {},
   "source": [
    "## Other vectors"
   ]
  },
  {
   "cell_type": "code",
   "execution_count": null,
   "id": "b96a497a-7e1e-4613-9df3-8c2e80a5cdc7",
   "metadata": {
    "id": "b96a497a-7e1e-4613-9df3-8c2e80a5cdc7"
   },
   "outputs": [],
   "source": [
    "digits = datasets.load_digits(n_class = 10)    # Loading the data using the sklearn library"
   ]
  },
  {
   "cell_type": "code",
   "execution_count": null,
   "id": "6b18264c-4f00-4a42-854b-92486a7461fe",
   "metadata": {
    "id": "6b18264c-4f00-4a42-854b-92486a7461fe"
   },
   "outputs": [],
   "source": [
    "X = digits.data\n",
    "y = digits.target\n",
    "n_samples, n_features = X.shape\n",
    "n_neighbors = 30"
   ]
  },
  {
   "cell_type": "code",
   "execution_count": null,
   "id": "cfc643f6-28a2-4363-9ab7-f6f044f4b23a",
   "metadata": {
    "id": "cfc643f6-28a2-4363-9ab7-f6f044f4b23a"
   },
   "outputs": [],
   "source": [
    "df = pd.DataFrame(zip(X, y), columns = ['vec', 'digit'])"
   ]
  },
  {
   "cell_type": "code",
   "execution_count": null,
   "id": "8af05b42-ec48-4efe-8600-918c935562e3",
   "metadata": {
    "id": "8af05b42-ec48-4efe-8600-918c935562e3",
    "outputId": "5c84336e-5efe-46a6-a778-0fc4a65260d1"
   },
   "outputs": [],
   "source": [
    "df"
   ]
  },
  {
   "cell_type": "code",
   "execution_count": null,
   "id": "50885077-176e-48bd-8b57-a55661b660f4",
   "metadata": {
    "id": "50885077-176e-48bd-8b57-a55661b660f4"
   },
   "outputs": [],
   "source": [
    "_0_1 ,_0_2, _0_3 = df[df['digit'] == 0][:3]['vec']"
   ]
  },
  {
   "cell_type": "code",
   "execution_count": null,
   "id": "593be8b5-4da5-42e0-8852-5bc12b38c2ca",
   "metadata": {
    "id": "593be8b5-4da5-42e0-8852-5bc12b38c2ca"
   },
   "outputs": [],
   "source": [
    "from scipy.spatial.distance import cosine"
   ]
  },
  {
   "cell_type": "code",
   "execution_count": null,
   "id": "744ad254-6abb-4816-b66d-1832ce70430c",
   "metadata": {
    "id": "744ad254-6abb-4816-b66d-1832ce70430c",
    "outputId": "eb68c67b-43dd-47a4-ca26-9da1571552d6"
   },
   "outputs": [],
   "source": [
    "cosine(_0_1, _0_2)"
   ]
  },
  {
   "cell_type": "code",
   "execution_count": null,
   "id": "05000a28-d28a-43f3-b923-9955081c5738",
   "metadata": {
    "id": "05000a28-d28a-43f3-b923-9955081c5738",
    "outputId": "e4fd7ca7-46e8-46b3-9fd7-e51cbb271502"
   },
   "outputs": [],
   "source": [
    "cosine(_0_1, _0_3)"
   ]
  },
  {
   "cell_type": "code",
   "execution_count": null,
   "id": "e8092f71-f09c-4831-ae57-fdd961fe453b",
   "metadata": {
    "id": "e8092f71-f09c-4831-ae57-fdd961fe453b"
   },
   "outputs": [],
   "source": [
    "_1_1,_1_2,_1_3 = df[df['digit'] == 1][:3]['vec']"
   ]
  },
  {
   "cell_type": "code",
   "execution_count": null,
   "id": "329b430a-1a16-4b16-866e-f94d3447b0c9",
   "metadata": {
    "id": "329b430a-1a16-4b16-866e-f94d3447b0c9",
    "outputId": "cdc017c5-a5e4-4971-88d7-c2972a50feda"
   },
   "outputs": [],
   "source": [
    "cosine(_1_1, _1_2)"
   ]
  },
  {
   "cell_type": "code",
   "execution_count": null,
   "id": "e6be8453-4bab-4982-8ad4-566ebf0cd308",
   "metadata": {
    "id": "e6be8453-4bab-4982-8ad4-566ebf0cd308",
    "outputId": "5cfc2db8-865a-431c-b59e-5b644006c757"
   },
   "outputs": [],
   "source": [
    "cosine(_1_1, _1_3)"
   ]
  },
  {
   "cell_type": "code",
   "execution_count": null,
   "id": "f1700a96-b66a-41a6-8cf3-a1664a7f3db0",
   "metadata": {
    "id": "f1700a96-b66a-41a6-8cf3-a1664a7f3db0",
    "outputId": "32de2228-1446-451a-a94a-7c06ef661c61"
   },
   "outputs": [],
   "source": [
    "cosine(_0_1, _1_2)"
   ]
  },
  {
   "cell_type": "code",
   "execution_count": null,
   "id": "9419881e-7850-4260-a5f0-b0242fcba5b4",
   "metadata": {
    "id": "9419881e-7850-4260-a5f0-b0242fcba5b4"
   },
   "outputs": [],
   "source": [
    "assert cosine(_0_1, _1_1) > cosine(_0_1, _0_2)"
   ]
  },
  {
   "cell_type": "markdown",
   "id": "6493b5bc-0ceb-4bf1-9a58-e0f876b90cc7",
   "metadata": {
    "id": "6493b5bc-0ceb-4bf1-9a58-e0f876b90cc7"
   },
   "source": [
    "### Drawing"
   ]
  },
  {
   "cell_type": "code",
   "execution_count": null,
   "id": "b76c7ad0-ff92-4d39-91a8-eea5f61584da",
   "metadata": {
    "id": "b76c7ad0-ff92-4d39-91a8-eea5f61584da",
    "outputId": "03f828a3-1f93-403f-a92b-a447a0e19b7c"
   },
   "outputs": [],
   "source": [
    "import matplotlib.pyplot as plt\n",
    "import numpy as np\n",
    "\n",
    "# Data provided (reshaped to 8x8 grid)\n",
    "data = np.array([\n",
    "    0.,  0.,  1.,  9., 15., 11.,  0.,  0.,  0.,  0., 11., 16.,  8.,\n",
    "    14.,  6.,  0.,  0.,  2., 16., 10.,  0.,  9.,  9.,  0.,  0.,  1.,\n",
    "    16.,  4.,  0.,  8.,  8.,  0.,  0.,  4., 16.,  4.,  0.,  8.,  8.,\n",
    "     0.,  0.,  1., 16.,  5.,  1., 11.,  3.,  0.,  0.,  0., 12., 12.,\n",
    "    10., 10.,  0.,  0.,  0.,  0.,  1., 10., 13.,  3.,  0.,  0.\n",
    "]).reshape(8, 8)\n",
    "\n",
    "def draw_digit(data):\n",
    "    plt.figure(figsize=(5, 5))\n",
    "    plt.imshow(data, cmap='binary')\n",
    "    plt.show()\n",
    "\n",
    "draw_digit(data)"
   ]
  },
  {
   "cell_type": "code",
   "execution_count": null,
   "id": "182debf9-bc1d-473f-8711-3284d597f606",
   "metadata": {
    "id": "182debf9-bc1d-473f-8711-3284d597f606"
   },
   "outputs": [],
   "source": [
    "X_tsne = manifold.TSNE(n_components = 3, init = 'pca', random_state = 0).fit_transform(X)"
   ]
  },
  {
   "cell_type": "code",
   "execution_count": null,
   "id": "c3cb11ac-3f24-4162-95c0-0d188f9f575e",
   "metadata": {
    "id": "c3cb11ac-3f24-4162-95c0-0d188f9f575e"
   },
   "outputs": [],
   "source": [
    "tsneDF = pd.DataFrame(zip(X_tsne, y), columns=['vec', 'digit'])"
   ]
  },
  {
   "cell_type": "code",
   "execution_count": null,
   "id": "55189e2a-2e36-4004-a4ac-743aeacb5313",
   "metadata": {
    "id": "55189e2a-2e36-4004-a4ac-743aeacb5313",
    "outputId": "7efd9698-ae48-4039-defb-8b4934141d21"
   },
   "outputs": [],
   "source": [
    "tsneDF"
   ]
  },
  {
   "cell_type": "code",
   "execution_count": null,
   "id": "4372f127-6110-49a4-bec9-060492a8635c",
   "metadata": {
    "id": "4372f127-6110-49a4-bec9-060492a8635c"
   },
   "outputs": [],
   "source": [
    "a0_1 ,a0_2, a0_3 = tsneDF[tsneDF['digit'] == 0][:3]['vec']"
   ]
  },
  {
   "cell_type": "code",
   "execution_count": null,
   "id": "fc3ae493-dbe3-4304-9754-b5d6419df138",
   "metadata": {
    "id": "fc3ae493-dbe3-4304-9754-b5d6419df138"
   },
   "outputs": [],
   "source": [
    "b1_1,b1_2,b1_3 = tsneDF[tsneDF['digit'] == 1][:3]['vec']"
   ]
  },
  {
   "cell_type": "code",
   "execution_count": null,
   "id": "549a2545-a5fe-4824-bdcd-aca5d3123df5",
   "metadata": {
    "id": "549a2545-a5fe-4824-bdcd-aca5d3123df5",
    "outputId": "5c3cbcdb-933a-4d83-8795-05209299b710"
   },
   "outputs": [],
   "source": [
    "cosine(a0_1, a0_2)"
   ]
  },
  {
   "cell_type": "code",
   "execution_count": null,
   "id": "48c02bd8-ce59-472f-a1c7-325ce885dbfc",
   "metadata": {
    "id": "48c02bd8-ce59-472f-a1c7-325ce885dbfc",
    "outputId": "91db1fc8-0ef0-4a58-fc13-b44cce0f3a55"
   },
   "outputs": [],
   "source": [
    "cosine(b1_1, b1_2)"
   ]
  },
  {
   "cell_type": "code",
   "execution_count": null,
   "id": "9fbaffaf-651a-49be-82f8-13f93a32ab35",
   "metadata": {
    "id": "9fbaffaf-651a-49be-82f8-13f93a32ab35",
    "outputId": "f3a962de-cd09-4754-f317-c39ab4b5900f"
   },
   "outputs": [],
   "source": [
    "cosine(a0_1, b1_1)"
   ]
  },
  {
   "cell_type": "code",
   "execution_count": null,
   "id": "79431536-afb2-4e14-a42c-9dd5716e8066",
   "metadata": {
    "id": "79431536-afb2-4e14-a42c-9dd5716e8066"
   },
   "outputs": [],
   "source": [
    "assert cosine(a0_2, b1_2) > cosine(b1_1, b1_2)"
   ]
  },
  {
   "cell_type": "code",
   "execution_count": null,
   "id": "5e7d5234-d862-4df2-a790-fce2a101450a",
   "metadata": {
    "id": "5e7d5234-d862-4df2-a790-fce2a101450a",
    "outputId": "9f4e403f-bf5f-4038-dbf1-24a400f94ed0"
   },
   "outputs": [],
   "source": [
    "pip install pymongo"
   ]
  },
  {
   "cell_type": "code",
   "execution_count": null,
   "id": "1c356dd8-790e-43f9-87d0-16d832e97f53",
   "metadata": {
    "id": "1c356dd8-790e-43f9-87d0-16d832e97f53"
   },
   "outputs": [],
   "source": [
    "import pymongo\n",
    "# Connect to your Atlas cluster\n",
    "mongo_client = pymongo.MongoClient(mongo_dsn)\n",
    "db = mongo_client[\"ds\"]\n",
    "collection = db[\"digits\"]"
   ]
  },
  {
   "cell_type": "code",
   "execution_count": null,
   "id": "414e799e-4ed3-4c34-8af5-b10cb5665f50",
   "metadata": {
    "id": "414e799e-4ed3-4c34-8af5-b10cb5665f50",
    "outputId": "4ab67c2b-0225-41e2-87f7-a0f2b5313959"
   },
   "outputs": [],
   "source": [
    "mongo_client.admin.command('ping')"
   ]
  },
  {
   "cell_type": "code",
   "execution_count": null,
   "id": "141048ce-85ef-47c3-9882-41568732ebdc",
   "metadata": {
    "id": "141048ce-85ef-47c3-9882-41568732ebdc",
    "outputId": "8f9b71a9-b358-4831-bed4-2f4ae1275e5c"
   },
   "outputs": [],
   "source": [
    "tsneDF[:10]"
   ]
  },
  {
   "cell_type": "code",
   "execution_count": null,
   "id": "f7b6f10f-fcbe-4b58-ac17-76c38be0c5bb",
   "metadata": {
    "id": "f7b6f10f-fcbe-4b58-ac17-76c38be0c5bb"
   },
   "outputs": [],
   "source": [
    "tsneDF['float_vec'] = tsneDF.vec.apply(lambda x: list(map(float, x)))"
   ]
  },
  {
   "cell_type": "code",
   "execution_count": null,
   "id": "ba6894cb-e41f-4bbb-aec1-3b141b844327",
   "metadata": {
    "id": "ba6894cb-e41f-4bbb-aec1-3b141b844327",
    "outputId": "61524dd8-0201-4182-a771-362bf8612408"
   },
   "outputs": [],
   "source": [
    "tsneDF"
   ]
  },
  {
   "cell_type": "code",
   "execution_count": null,
   "id": "f0279f63-b9a1-490b-8c24-1e4326946bdb",
   "metadata": {
    "id": "f0279f63-b9a1-490b-8c24-1e4326946bdb"
   },
   "outputs": [],
   "source": [
    "from itertools import batched\n",
    "\n",
    "for batch in batched(tsneDF.iterrows(), 20):\n",
    "    to_be_inserted = [{ \"digit\": row['digit'], \"embedding\": row['float_vec'] } for index, row in batch]\n",
    "    collection.insert_many(to_be_inserted)"
   ]
  },
  {
   "cell_type": "code",
   "execution_count": null,
   "id": "9c4d6402-f33a-4ab0-b880-cc575196becf",
   "metadata": {
    "id": "9c4d6402-f33a-4ab0-b880-cc575196becf",
    "outputId": "6d70449e-ebc2-49ca-83d4-369444ab1686"
   },
   "outputs": [],
   "source": [
    "from pymongo.operations import SearchIndexModel\n",
    "# Create your index model, then create the search index\n",
    "search_index_model = SearchIndexModel(\n",
    "  definition = {\n",
    "    \"fields\": [\n",
    "      {\n",
    "        \"type\": \"vector\",\n",
    "        \"path\": \"embedding\",\n",
    "        \"similarity\": \"cosine\",\n",
    "        #\"similarity\": \"euclidean\",\n",
    "        \"numDimensions\": 3\n",
    "      }\n",
    "    ]\n",
    "  },\n",
    "  name=\"vector_index\",\n",
    "  type=\"vectorSearch\",\n",
    ")\n",
    "collection.create_search_index(model=search_index_model)\n"
   ]
  },
  {
   "cell_type": "code",
   "execution_count": null,
   "id": "243432a7-74c5-41a2-8eef-5578287ab26f",
   "metadata": {
    "id": "243432a7-74c5-41a2-8eef-5578287ab26f"
   },
   "outputs": [],
   "source": [
    "rows = collection.find({})"
   ]
  },
  {
   "cell_type": "code",
   "execution_count": null,
   "id": "c04e1a8b-3a3d-427d-94c2-5267a9c141bf",
   "metadata": {
    "id": "c04e1a8b-3a3d-427d-94c2-5267a9c141bf",
    "outputId": "2ddf7f9f-6212-4671-fd86-ec3967f9e1e6"
   },
   "outputs": [],
   "source": [
    "for i in (next(rows) for i in range(10)):\n",
    "    display(i)"
   ]
  },
  {
   "cell_type": "code",
   "execution_count": null,
   "id": "0d3b1477-abb5-4a0d-a2ea-a5462603540b",
   "metadata": {
    "id": "0d3b1477-abb5-4a0d-a2ea-a5462603540b",
    "outputId": "24dd535e-c9f2-4bdf-f1d7-6c95605418b8"
   },
   "outputs": [],
   "source": [
    "# define pipeline\n",
    "pipeline = [\n",
    "  {\n",
    "    '$vectorSearch': {\n",
    "      'index': 'vector_index',\n",
    "      'path': 'embedding',\n",
    "      'queryVector': [0.48, -17, 2.60],\n",
    "      'numCandidates': 200,\n",
    "      'limit': 200\n",
    "    }\n",
    "  }, {\n",
    "    '$project': {\n",
    "      '_id': 0,\n",
    "      'digit': 1,\n",
    "      'score': {\n",
    "        '$meta': 'vectorSearchScore'\n",
    "      },\n",
    "      'embedding': 1\n",
    "    }\n",
    "  }\n",
    "]\n",
    "# run pipeline\n",
    "result = collection.aggregate(pipeline)\n",
    "# print results\n",
    "for i in result:\n",
    "    print(i)"
   ]
  },
  {
   "cell_type": "code",
   "execution_count": null,
   "id": "feb80883-f0a7-46f8-8f36-62eb17173355",
   "metadata": {
    "id": "feb80883-f0a7-46f8-8f36-62eb17173355"
   },
   "outputs": [],
   "source": []
  }
 ],
 "metadata": {
  "colab": {
   "provenance": []
  },
  "kernelspec": {
   "display_name": "Python 3 (ipykernel)",
   "language": "python",
   "name": "python3"
  },
  "language_info": {
   "codemirror_mode": {
    "name": "ipython",
    "version": 3
   },
   "file_extension": ".py",
   "mimetype": "text/x-python",
   "name": "python",
   "nbconvert_exporter": "python",
   "pygments_lexer": "ipython3",
   "version": "3.13.0"
  }
 },
 "nbformat": 4,
 "nbformat_minor": 5
}
