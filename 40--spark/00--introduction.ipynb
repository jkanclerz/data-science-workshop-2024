{
  "cells": [
    {
      "cell_type": "markdown",
      "metadata": {
        "id": "q8jn0aSVCpdZ"
      },
      "source": [
        "[![Open In Colab](https://colab.research.google.com/assets/colab-badge.svg)](https://githubtocolab.com/jkanclerz/data-science-workshop-2024/blob/main/40--spark/00--introduction.ipynb)"
      ]
    },
    {
      "cell_type": "markdown",
      "metadata": {
        "id": "kCZbwcja0rLX"
      },
      "source": []
    },
    {
      "cell_type": "code",
      "execution_count": null,
      "metadata": {
        "colab": {
          "base_uri": "https://localhost:8080/"
        },
        "id": "trfVgPgVDC1L",
        "outputId": "b3bfd2ab-9ae2-4a9b-c1f0-9abfcdc737ae"
      },
      "outputs": [],
      "source": [
        "!apt-get install openjdk-17-jdk-headless -qq > /dev/null\n",
        "!wget https://dlcdn.apache.org/spark/spark-3.5.4/spark-3.5.4-bin-hadoop3.tgz -O spark-3.5.4-bin-hadoop3.tgz\n",
        "!tar xf spark-3.5.4-bin-hadoop3.tgz"
      ]
    },
    {
      "cell_type": "code",
      "execution_count": 4,
      "metadata": {
        "id": "j-Onwr3EEo9K"
      },
      "outputs": [],
      "source": [
        "import os\n",
        "os.environ[\"JAVA_HOME\"] = \"/usr/lib/jvm/java-17-openjdk-amd64\"\n",
        "os.environ[\"SPARK_HOME\"] = \"/content/spark-3.5.4-bin-hadoop3\""
      ]
    },
    {
      "cell_type": "code",
      "execution_count": null,
      "metadata": {
        "colab": {
          "base_uri": "https://localhost:8080/"
        },
        "id": "7Quz81QR0rLZ",
        "outputId": "b9029a02-9a16-4d10-9f1f-065ac28a4c4a"
      },
      "outputs": [],
      "source": [
        "pip install pyspark"
      ]
    },
    {
      "cell_type": "code",
      "execution_count": 7,
      "metadata": {
        "id": "tuMwhR8QFFz6"
      },
      "outputs": [],
      "source": [
        "from pyspark.sql import SparkSession\n",
        "\n",
        "spark = SparkSession.builder\\\n",
        "        .appName(\"Test it\")\\\n",
        "        .getOrCreate()"
      ]
    },
    {
      "cell_type": "code",
      "execution_count": null,
      "metadata": {
        "colab": {
          "base_uri": "https://localhost:8080/",
          "height": 221
        },
        "id": "WyxlEOY_Cpdf",
        "outputId": "a38f02bb-7208-4039-cce4-50550b73aec6"
      },
      "outputs": [],
      "source": [
        "spark"
      ]
    },
    {
      "cell_type": "code",
      "execution_count": null,
      "metadata": {
        "colab": {
          "base_uri": "https://localhost:8080/"
        },
        "id": "DIomJFCV1gZk",
        "outputId": "9757f7f4-344a-4d5d-c3e0-6e2d41e75181"
      },
      "outputs": [],
      "source": [
        "spark.sql(\"select 'hello' world, version() my_version, 2+2 equation\").show()"
      ]
    },
    {
      "cell_type": "code",
      "execution_count": 16,
      "metadata": {
        "id": "fJLfZgODCpdg"
      },
      "outputs": [],
      "source": [
        "spark.stop()"
      ]
    },
    {
      "cell_type": "markdown",
      "metadata": {
        "id": "riFIhtBpCpdi"
      },
      "source": [
        "\n",
        "## Key concept\n",
        "\n",
        "## In Memory\n",
        "\n",
        "* improved performance over Disc I/O\n",
        "* reading from memory is much faster than reading from disc\n",
        "* Disk as fallback, when object is to large\n",
        "\n",
        "```\n",
        "          +-------+           +---------+    +----------+  \n",
        "          | Data  |           | Source 2|    | Source 3 |\n",
        "          +-------+           +---------+    +----------+  \n",
        "             |                     |              |\n",
        "            map()                filter()         |\n",
        "             |                     |              |\n",
        "             +-------join()--------+              |\n",
        "                      |                           |\n",
        "                  map(enrich())                   |\n",
        "                      |                           |\n",
        "                      |                           |\n",
        "                      +---------------------------+\n",
        "                      |\n",
        "                  +--------+\n",
        "                  | cache()|\n",
        "                  +--------+\n",
        "                      |\n",
        "                  transform\n",
        "                      |\n",
        "                  collect()\n",
        "```\n",
        "\n",
        "### lazy evaluation\n",
        "\n",
        "* generators like\n",
        "* calculate on demand not upfront\n",
        "\n",
        "There are two types of operations:\n",
        "\n",
        "**Actions:** Returns values, data is not processed in an RDD until an action is preformed\n",
        "* show\n",
        "* take\n",
        "* collect\n",
        "\n",
        "**Transformations:** Defines a new RDD based on the current\n",
        "* map\n",
        "* filter\n",
        "* ..."
      ]
    },
    {
      "cell_type": "code",
      "execution_count": null,
      "metadata": {
        "id": "8vRAKzY8Cpdi"
      },
      "outputs": [],
      "source": []
    }
  ],
  "metadata": {
    "colab": {
      "name": "00--introduction.ipynb",
      "provenance": []
    },
    "kernelspec": {
      "display_name": "Python 3 (ipykernel)",
      "language": "python",
      "name": "python3"
    },
    "language_info": {
      "codemirror_mode": {
        "name": "ipython",
        "version": 3
      },
      "file_extension": ".py",
      "mimetype": "text/x-python",
      "name": "python",
      "nbconvert_exporter": "python",
      "pygments_lexer": "ipython3",
      "version": "3.13.0"
    },
    "vscode": {
      "interpreter": {
        "hash": "1a1af0ee75eeea9e2e1ee996c87e7a2b11a0bebd85af04bb136d915cefc0abce"
      }
    }
  },
  "nbformat": 4,
  "nbformat_minor": 0
}
