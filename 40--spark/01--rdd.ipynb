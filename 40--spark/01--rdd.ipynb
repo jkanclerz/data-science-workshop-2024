{
  "cells": [
    {
      "cell_type": "markdown",
      "metadata": {
        "id": "y3dhDdbJ_Rc2"
      },
      "source": [
        "[![Open In Colab](https://colab.research.google.com/assets/colab-badge.svg)](https://githubtocolab.com/jkanclerz/data-science-workshop-2024/blob/main/40--spark/01--rdd.ipynb)"
      ]
    },
    {
      "cell_type": "code",
      "execution_count": null,
      "metadata": {
        "colab": {
          "base_uri": "https://localhost:8080/"
        },
        "id": "lJxsZLOT_Rc4",
        "outputId": "3ae8972e-2301-49fe-807c-286b6266ca8f"
      },
      "outputs": [],
      "source": [
        "!apt-get install openjdk-17-jdk-headless -qq > /dev/null\n",
        "!wget https://dlcdn.apache.org/spark/spark-3.5.4/spark-3.5.4-bin-hadoop3.tgz -O spark-3.5.4-bin-hadoop3.tgz\n",
        "!tar xf spark-3.5.4-bin-hadoop3.tgz"
      ]
    },
    {
      "cell_type": "code",
      "execution_count": 2,
      "metadata": {
        "id": "dqYfuMQV_Rc5"
      },
      "outputs": [],
      "source": [
        "!pip install -q pyspark"
      ]
    },
    {
      "cell_type": "code",
      "execution_count": 3,
      "metadata": {
        "id": "bmQrU3e5_Rc6"
      },
      "outputs": [],
      "source": [
        "import os\n",
        "os.environ[\"JAVA_HOME\"] = \"/usr/lib/jvm/java-17-openjdk-amd64\"\n",
        "os.environ[\"SPARK_HOME\"] = \"/content/spark-3.5.4-bin-hadoop3\""
      ]
    },
    {
      "cell_type": "code",
      "execution_count": 40,
      "metadata": {
        "id": "mSWlQ6te_Rc6"
      },
      "outputs": [],
      "source": [
        "from pyspark.sql import SparkSession\n",
        "\n",
        "spark = SparkSession.builder\\\n",
        "        .master(\"local\")\\\n",
        "        .appName(\"DDD\")\\\n",
        "        .config('spark.ui.port', '4050')\\\n",
        "        .getOrCreate()"
      ]
    },
    {
      "cell_type": "code",
      "execution_count": null,
      "metadata": {
        "colab": {
          "base_uri": "https://localhost:8080/",
          "height": 221
        },
        "id": "vlw6x-HI_Rc6",
        "outputId": "a747e640-4744-4b85-cdd0-d552c72fe3fe"
      },
      "outputs": [],
      "source": [
        "spark"
      ]
    },
    {
      "cell_type": "code",
      "execution_count": 42,
      "metadata": {
        "id": "qgIbxj7z_Rc6"
      },
      "outputs": [],
      "source": [
        "sc = spark.sparkContext"
      ]
    },
    {
      "cell_type": "markdown",
      "metadata": {
        "id": "v_lFQOOw_Rc7"
      },
      "source": [
        "### Resilient Distributed Dataset or RDD\n",
        "\n",
        "An RDD is a distributed collection of elements. All work in Spark is expressed as either creating new RDDs, transforming existing RDDs, or calling actions on RDDs to compute a result. Spark automatically distributes the data contained in RDDs across your cluster and parallelizes the operations you perform on them.\n",
        "\n",
        "https://spark.apache.org/docs/latest/rdd-programming-guide.html#resilient-distributed-datasets-rdds"
      ]
    },
    {
      "cell_type": "markdown",
      "metadata": {
        "id": "ud-a4YUT_Rc7"
      },
      "source": [
        "#### Creating and RDD using parallelize\n",
        "Another way of creating an RDD is to parallelize an already existing list."
      ]
    },
    {
      "cell_type": "code",
      "execution_count": 43,
      "metadata": {
        "id": "JSD1Rz_rFaBf"
      },
      "outputs": [],
      "source": [
        "data = [1, 2, 3, 4, 5]\n",
        "distData = sc.parallelize(data)"
      ]
    },
    {
      "cell_type": "code",
      "execution_count": null,
      "metadata": {
        "colab": {
          "base_uri": "https://localhost:8080/",
          "height": 174
        },
        "id": "Sn664msZFcf9",
        "outputId": "f3b4de13-3475-4d20-e615-d1fa6c4b1bde"
      },
      "outputs": [],
      "source": [
        "type(distData)"
      ]
    },
    {
      "cell_type": "code",
      "execution_count": null,
      "metadata": {
        "colab": {
          "base_uri": "https://localhost:8080/"
        },
        "id": "k75yFyJgFglc",
        "outputId": "cd14b244-3315-484d-8075-977c2fb8c1bc"
      },
      "outputs": [],
      "source": [
        "type(distData.collect())"
      ]
    },
    {
      "cell_type": "code",
      "execution_count": null,
      "metadata": {
        "colab": {
          "base_uri": "https://localhost:8080/"
        },
        "id": "VfNyIUqdFmh3",
        "outputId": "acdd2dc1-03c6-4077-82cb-e931dc938fa1"
      },
      "outputs": [],
      "source": [
        "distData.take(2)"
      ]
    },
    {
      "cell_type": "code",
      "execution_count": 47,
      "metadata": {
        "id": "5pNlTyIR_Rc7"
      },
      "outputs": [],
      "source": [
        "A = ((a, a*a) for a in range(1000))"
      ]
    },
    {
      "cell_type": "code",
      "execution_count": 48,
      "metadata": {
        "id": "EqkFhQq6_Rc7"
      },
      "outputs": [],
      "source": [
        "data = sc.parallelize(A)"
      ]
    },
    {
      "cell_type": "code",
      "execution_count": null,
      "metadata": {
        "colab": {
          "base_uri": "https://localhost:8080/"
        },
        "id": "qf126jaX_Rc7",
        "outputId": "43b69b19-8ae9-47f1-be35-f98f8f10dc44"
      },
      "outputs": [],
      "source": [
        "data.count()"
      ]
    },
    {
      "cell_type": "code",
      "execution_count": null,
      "metadata": {
        "colab": {
          "base_uri": "https://localhost:8080/"
        },
        "id": "ExTUb2gW_Rc7",
        "outputId": "4efaf813-0092-4012-b4a6-76537e0124a4"
      },
      "outputs": [],
      "source": [
        "data.take(10)"
      ]
    },
    {
      "cell_type": "code",
      "execution_count": 55,
      "metadata": {
        "id": "XmWACFLRDy4g"
      },
      "outputs": [],
      "source": [
        "rm -rf var/data.txt"
      ]
    },
    {
      "cell_type": "code",
      "execution_count": 57,
      "metadata": {
        "id": "d4qQVsVXF0F8"
      },
      "outputs": [],
      "source": [
        "data.saveAsTextFile('var/data.txt')"
      ]
    },
    {
      "cell_type": "markdown",
      "metadata": {
        "id": "5AUv2Krh_Rc8"
      },
      "source": [
        "#### Creating a RDD from a file\n",
        "The most common way of creating an RDD is to load it from a file. Notice that Spark's textFile can handle compressed files directly."
      ]
    },
    {
      "cell_type": "code",
      "execution_count": null,
      "metadata": {
        "colab": {
          "base_uri": "https://localhost:8080/"
        },
        "id": "Vu-GvWSI_Rc8",
        "outputId": "54a984e2-68aa-4df5-e77d-acdb1732bb92"
      },
      "outputs": [],
      "source": [
        "!mkdir -p var\n",
        "!wget https://wolnelektury.pl/media/book/txt/krzyzacy-tom-pierwszy.txt -O var/krzyzacy-1.txt"
      ]
    },
    {
      "cell_type": "code",
      "execution_count": 60,
      "metadata": {
        "id": "QLEgesCmD8Ic"
      },
      "outputs": [],
      "source": [
        "rm -rf var/krzyzacy-1-upper.txt/"
      ]
    },
    {
      "cell_type": "code",
      "execution_count": 61,
      "metadata": {
        "id": "Bxty0Z-J_Rc8"
      },
      "outputs": [],
      "source": [
        "file = sc.textFile('var/krzyzacy-1.txt')\n",
        "\n",
        "(file\n",
        "  .map(lambda line: line.upper())\n",
        "  .saveAsTextFile('var/krzyzacy-1-upper.txt')\n",
        ")"
      ]
    },
    {
      "cell_type": "markdown",
      "metadata": {
        "id": "ccVIaL52GwIV"
      },
      "source": [
        "## Transformations\n",
        "https://spark.apache.org/docs/latest/rdd-programming-guide.html#transformations"
      ]
    },
    {
      "cell_type": "code",
      "execution_count": 62,
      "metadata": {
        "id": "g3Eh39B0HdJU"
      },
      "outputs": [],
      "source": [
        "raw_data = sc.textFile(\"var/krzyzacy*\")"
      ]
    },
    {
      "cell_type": "code",
      "execution_count": null,
      "metadata": {
        "colab": {
          "base_uri": "https://localhost:8080/"
        },
        "id": "XPV6t-vXGu-J",
        "outputId": "d9bb6167-998a-4707-f855-9d08dfb4349e"
      },
      "outputs": [],
      "source": [
        "raw_data.count()"
      ]
    },
    {
      "cell_type": "code",
      "execution_count": 64,
      "metadata": {
        "id": "dmlmvmBsHgoR"
      },
      "outputs": [],
      "source": [
        "sentences = raw_data.filter(lambda x: \"\" != x)"
      ]
    },
    {
      "cell_type": "code",
      "execution_count": 65,
      "metadata": {
        "id": "fQgcLxswHklI"
      },
      "outputs": [],
      "source": [
        "words_batch = sentences.map(lambda x: x.split(\" \"))"
      ]
    },
    {
      "cell_type": "code",
      "execution_count": null,
      "metadata": {
        "colab": {
          "base_uri": "https://localhost:8080/"
        },
        "id": "ZUCfrrQNHopQ",
        "outputId": "a63e22ec-3587-464f-814b-fd1d7a66397c"
      },
      "outputs": [],
      "source": [
        "words_batch.take(6)"
      ]
    },
    {
      "cell_type": "code",
      "execution_count": 67,
      "metadata": {
        "id": "rrfX2YFpHyTF"
      },
      "outputs": [],
      "source": [
        "words = sentences.flatMap(lambda x: x.split(\" \"))\n",
        "words = words.map(lambda x: x.lower())"
      ]
    },
    {
      "cell_type": "code",
      "execution_count": null,
      "metadata": {
        "colab": {
          "base_uri": "https://localhost:8080/"
        },
        "id": "a0o2f_d_H1IM",
        "outputId": "9342f55f-791c-4db2-91f3-9015d39d4ebe"
      },
      "outputs": [],
      "source": [
        "\n",
        "words.take(10)"
      ]
    },
    {
      "cell_type": "code",
      "execution_count": 69,
      "metadata": {
        "id": "50zo1kuoH5hc"
      },
      "outputs": [],
      "source": [
        "words_occurence = words.map(lambda word: (word, 1))"
      ]
    },
    {
      "cell_type": "code",
      "execution_count": null,
      "metadata": {
        "colab": {
          "base_uri": "https://localhost:8080/"
        },
        "id": "wO8sq2HmH9R3",
        "outputId": "37284f55-2861-4b94-d93c-26d6e645908e"
      },
      "outputs": [],
      "source": [
        "words_occurence.take(3)"
      ]
    },
    {
      "cell_type": "code",
      "execution_count": 71,
      "metadata": {
        "id": "W8ujk9k5IAbD"
      },
      "outputs": [],
      "source": [
        "wordCounts = words_occurence.reduceByKey(lambda a,b: a + b)"
      ]
    },
    {
      "cell_type": "code",
      "execution_count": null,
      "metadata": {
        "colab": {
          "base_uri": "https://localhost:8080/"
        },
        "id": "VUST6uh3IEse",
        "outputId": "876c46a2-1bff-4b81-945c-042393a44572"
      },
      "outputs": [],
      "source": [
        "wordCounts.map(lambda x: (x[1], x[0])) \\\n",
        "    .sortByKey(ascending=False) \\\n",
        "    .take(5)"
      ]
    },
    {
      "cell_type": "code",
      "execution_count": null,
      "metadata": {
        "colab": {
          "base_uri": "https://localhost:8080/"
        },
        "id": "9BJMMZwCIH-u",
        "outputId": "6f0369f6-4ac2-4443-c3ad-616ced23c9e1"
      },
      "outputs": [],
      "source": [
        "!wget https://raw.githubusercontent.com/bieli/stopwords/master/polish.stopwords.txt -O var/stopwords.txt"
      ]
    },
    {
      "cell_type": "code",
      "execution_count": 74,
      "metadata": {
        "id": "EhcLV39UIKW4"
      },
      "outputs": [],
      "source": [
        "stop_words = sc.textFile(\"var/stopwords.txt\").collect()"
      ]
    },
    {
      "cell_type": "code",
      "execution_count": 75,
      "metadata": {
        "id": "rMqRt7LlIOB8"
      },
      "outputs": [],
      "source": [
        "counter = (wordCounts\n",
        "  .map(lambda x: (x[1], x[0]))\n",
        "  .filter(lambda x: x[1] not in stop_words)\n",
        "  .filter(lambda x: x[1] != '—')\n",
        "  .sortByKey(ascending=False)\n",
        ")"
      ]
    },
    {
      "cell_type": "code",
      "execution_count": null,
      "metadata": {
        "colab": {
          "base_uri": "https://localhost:8080/"
        },
        "id": "1_eW0M7hIP1E",
        "outputId": "fa2c333c-c07d-440d-f2a6-144852973e6a"
      },
      "outputs": [],
      "source": [
        "counter.take(15)"
      ]
    },
    {
      "cell_type": "markdown",
      "metadata": {
        "id": "F4xblYiRIl5H"
      },
      "source": [
        "## Sampling"
      ]
    },
    {
      "cell_type": "code",
      "execution_count": null,
      "metadata": {
        "colab": {
          "base_uri": "https://localhost:8080/"
        },
        "id": "svYVjVOOIuWH",
        "outputId": "97a3610b-dee1-4cab-cd21-416ad76b1beb"
      },
      "outputs": [],
      "source": [
        "words.count()"
      ]
    },
    {
      "cell_type": "code",
      "execution_count": 78,
      "metadata": {
        "id": "CJrs69q8I0uf"
      },
      "outputs": [],
      "source": [
        "sample_words = words.sample(False, 0.005, 1234)"
      ]
    },
    {
      "cell_type": "code",
      "execution_count": null,
      "metadata": {
        "colab": {
          "base_uri": "https://localhost:8080/"
        },
        "id": "c8jTz3QkI9Ke",
        "outputId": "d146749f-b396-4325-f4a3-103b7046b15a"
      },
      "outputs": [],
      "source": [
        "sample_words.count()"
      ]
    },
    {
      "cell_type": "code",
      "execution_count": null,
      "metadata": {
        "colab": {
          "base_uri": "https://localhost:8080/"
        },
        "id": "3s9PfoYZJIfL",
        "outputId": "28f5d744-e246-4282-f0f5-1bed6bd32971"
      },
      "outputs": [],
      "source": [
        "sample_words.take(10)"
      ]
    },
    {
      "cell_type": "code",
      "execution_count": null,
      "metadata": {
        "colab": {
          "base_uri": "https://localhost:8080/"
        },
        "id": "Gn5fyPZzJOJj",
        "outputId": "10e4cdbe-07aa-4e48-db36-b3e02857a9f5"
      },
      "outputs": [],
      "source": [
        "words.takeSample(False, 10, 1234)"
      ]
    },
    {
      "cell_type": "code",
      "execution_count": null,
      "metadata": {
        "colab": {
          "base_uri": "https://localhost:8080/"
        },
        "id": "7O9VOYdhEFRH",
        "outputId": "af7b6112-af57-41f8-bf48-9b0fc8387e68"
      },
      "outputs": [],
      "source": [
        "!mkdir -p var\n",
        "!wget https://wolnelektury.pl/media/book/txt/krzyzacy-tom-drugi.txt -O var/krzyzacy-2.txt"
      ]
    },
    {
      "cell_type": "code",
      "execution_count": 83,
      "metadata": {
        "id": "gD8M8zdk_RdC"
      },
      "outputs": [],
      "source": [
        "file = sc.textFile('var/krzyzacy*')"
      ]
    },
    {
      "cell_type": "code",
      "execution_count": null,
      "metadata": {
        "colab": {
          "base_uri": "https://localhost:8080/"
        },
        "id": "P4JMagM2_RdC",
        "outputId": "f654f65f-77ea-4c9f-a330-515513745bf9"
      },
      "outputs": [],
      "source": [
        "file.count()"
      ]
    },
    {
      "cell_type": "code",
      "execution_count": 103,
      "metadata": {
        "id": "dZyUnUyeEWa0"
      },
      "outputs": [],
      "source": [
        "counter = (\n",
        "  file\n",
        "    .filter(lambda x: \"\" != x)\n",
        "    .flatMap(lambda x: x.split(\" \"))\n",
        "    .map(lambda x: x.lower())\n",
        "    .filter(lambda x: x not in stop_words)\n",
        "    .filter(lambda x: x != '—')\n",
        "    .map(lambda word: (word, 1))\n",
        "    .reduceByKey(lambda a,b: a + b)\n",
        "    .map(lambda x: (x[1], x[0]))\n",
        "    .sortByKey(ascending=False)\n",
        ")"
      ]
    },
    {
      "cell_type": "code",
      "execution_count": null,
      "metadata": {
        "colab": {
          "base_uri": "https://localhost:8080/"
        },
        "id": "vItkXcwrFEHf",
        "outputId": "f0112ec9-e01d-4df4-f134-c1e40d61d78c"
      },
      "outputs": [],
      "source": [
        "counter.take(15)"
      ]
    },
    {
      "cell_type": "code",
      "execution_count": 105,
      "metadata": {
        "id": "QVmZXXM8_RdC"
      },
      "outputs": [],
      "source": [
        "spark.stop()"
      ]
    },
    {
      "cell_type": "code",
      "execution_count": null,
      "metadata": {
        "id": "vMLAT8XBFt5L"
      },
      "outputs": [],
      "source": []
    }
  ],
  "metadata": {
    "colab": {
      "provenance": []
    },
    "kernelspec": {
      "display_name": "Python 3 (ipykernel)",
      "language": "python",
      "name": "python3"
    },
    "language_info": {
      "codemirror_mode": {
        "name": "ipython",
        "version": 3
      },
      "file_extension": ".py",
      "mimetype": "text/x-python",
      "name": "python",
      "nbconvert_exporter": "python",
      "pygments_lexer": "ipython3",
      "version": "3.10.9"
    },
    "vscode": {
      "interpreter": {
        "hash": "1a1af0ee75eeea9e2e1ee996c87e7a2b11a0bebd85af04bb136d915cefc0abce"
      }
    }
  },
  "nbformat": 4,
  "nbformat_minor": 0
}
