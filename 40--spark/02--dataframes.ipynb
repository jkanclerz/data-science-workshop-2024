{
  "cells": [
    {
      "cell_type": "markdown",
      "metadata": {
        "id": "5PoHD_MCGMTA"
      },
      "source": [
        "\n",
        "[![Open In Colab](https://colab.research.google.com/assets/colab-badge.svg)](https://githubtocolab.com/jkanclerz/data-science-workshop-2024/blob/main/40--spark/02--dataframes.ipynb)"
      ]
    },
    {
      "cell_type": "code",
      "execution_count": null,
      "metadata": {
        "colab": {
          "base_uri": "https://localhost:8080/"
        },
        "id": "lDf8yvLaGMTD",
        "outputId": "71f10e15-6323-4a65-f507-d8d7e11e6fb1"
      },
      "outputs": [],
      "source": [
        "!apt-get install openjdk-17-jdk-headless -qq > /dev/null\n",
        "!wget https://dlcdn.apache.org/spark/spark-3.5.4/spark-3.5.4-bin-hadoop3.tgz -O spark-3.5.4-bin-hadoop3.tgz\n",
        "!tar xf spark-3.5.4-bin-hadoop3.tgz"
      ]
    },
    {
      "cell_type": "code",
      "execution_count": 2,
      "metadata": {
        "id": "uX10hxWwGMTE"
      },
      "outputs": [],
      "source": [
        "!pip install -q pyspark"
      ]
    },
    {
      "cell_type": "code",
      "execution_count": 3,
      "metadata": {
        "id": "Yv_9YYgyGMTF"
      },
      "outputs": [],
      "source": [
        "import os\n",
        "os.environ[\"JAVA_HOME\"] = \"/usr/lib/jvm/java-17-openjdk-amd64\"\n",
        "os.environ[\"SPARK_HOME\"] = \"/content/spark-3.5.4-bin-hadoop3\""
      ]
    },
    {
      "cell_type": "code",
      "execution_count": 4,
      "metadata": {
        "id": "AV51nKbuGMTF"
      },
      "outputs": [],
      "source": [
        "from pyspark.sql import SparkSession\n",
        "\n",
        "spark = SparkSession.builder\\\n",
        "        .master(\"local\")\\\n",
        "        .appName(\"Spark dataframe\")\\\n",
        "        .config('spark.ui.port', '4050')\\\n",
        "        .getOrCreate()"
      ]
    },
    {
      "cell_type": "code",
      "execution_count": 23,
      "metadata": {
        "id": "D5VHMj6JHh_K"
      },
      "outputs": [],
      "source": [
        "sc = spark.sparkContext"
      ]
    },
    {
      "cell_type": "code",
      "execution_count": null,
      "metadata": {
        "colab": {
          "base_uri": "https://localhost:8080/",
          "height": 221
        },
        "id": "bvqcf7rcGMTF",
        "outputId": "8cabfd68-fd52-45af-f5db-786d2d72847b"
      },
      "outputs": [],
      "source": [
        "spark"
      ]
    },
    {
      "cell_type": "markdown",
      "metadata": {
        "id": "QXsHUdnTGMTF"
      },
      "source": [
        "### DataFrames\n",
        "\n",
        "DataFrames gives a schema view of data basically, it is an abstraction. In dataframes, view of data is organized as columns with column name and types info. In addition, we can say data in dataframe is as same as the table in relational database.\n",
        "\n",
        "### DataSets\n",
        "\n",
        "In Spark, datasets are an extension of dataframes. Basically, it earns two different APIs characteristics, such as strongly typed and untyped. Datasets are by default a collection of strongly typed JVM objects"
      ]
    },
    {
      "cell_type": "markdown",
      "metadata": {
        "id": "kqDb_HecGMTF"
      },
      "source": [
        "**data frames** allow to deal with data in structured way. We will see how the data frame abstraction, very popular in other data analytics ecosystems (e.g. R and Python/Pandas), it is very powerful when performing exploratory data analysis. In fact, it is very easy to express data queries when used together with the SQL language"
      ]
    },
    {
      "cell_type": "code",
      "execution_count": null,
      "metadata": {
        "colab": {
          "base_uri": "https://localhost:8080/"
        },
        "id": "UtAy3k0HGQNO",
        "outputId": "f4bfd8e9-a4c6-4ac4-9160-54aa5f3074bf"
      },
      "outputs": [],
      "source": [
        "pip install pandas"
      ]
    },
    {
      "cell_type": "code",
      "execution_count": 8,
      "metadata": {
        "id": "c0zGyQi1GaFS"
      },
      "outputs": [],
      "source": [
        "import pandas as pd\n",
        "\n",
        "data = [\n",
        "    (1, 2., 'Jakub'),\n",
        "    (2, 3., 'Michał'),\n",
        "    (3, 4., 'Aga')\n",
        "]"
      ]
    },
    {
      "cell_type": "code",
      "execution_count": 9,
      "metadata": {
        "id": "o9susT9fGfNd"
      },
      "outputs": [],
      "source": [
        "df = pd.DataFrame(data, columns=['id', 'number', 'name'])"
      ]
    },
    {
      "cell_type": "code",
      "execution_count": null,
      "metadata": {
        "colab": {
          "base_uri": "https://localhost:8080/",
          "height": 143
        },
        "id": "hLO87ZQAGix-",
        "outputId": "d5167687-c5bd-4346-8b44-a99e59ae9744"
      },
      "outputs": [],
      "source": [
        "df"
      ]
    },
    {
      "cell_type": "code",
      "execution_count": null,
      "metadata": {
        "colab": {
          "base_uri": "https://localhost:8080/",
          "height": 332
        },
        "id": "5DHhrvatGo0X",
        "outputId": "a897a7e1-1c6d-4bf9-ae04-ef9569a39c9a"
      },
      "outputs": [],
      "source": [
        "data = ((a, a*a) for a in range(1,10))\n",
        "\n",
        "pd.DataFrame(data, columns=['a', 'a_square'])"
      ]
    },
    {
      "cell_type": "markdown",
      "metadata": {
        "id": "CwYv-HCzGMTF"
      },
      "source": [
        "#### Creating a RDD from a file"
      ]
    },
    {
      "cell_type": "code",
      "execution_count": 14,
      "metadata": {
        "id": "c90qPPnhGMTF"
      },
      "outputs": [],
      "source": [
        "rdd = sc.parallelize([\n",
        "    (1, 2., 'Jakub'),\n",
        "    (2, 3., 'Michał'),\n",
        "    (3, 4., 'Aga')\n",
        "])\n"
      ]
    },
    {
      "cell_type": "code",
      "execution_count": null,
      "metadata": {
        "colab": {
          "base_uri": "https://localhost:8080/"
        },
        "id": "6_l5rJ4QGMTG",
        "outputId": "52b87f4b-2698-40c1-94be-bfd0806b559f"
      },
      "outputs": [],
      "source": [
        "rdd.collect()"
      ]
    },
    {
      "cell_type": "code",
      "execution_count": 16,
      "metadata": {
        "id": "4uej1SxqGMTG"
      },
      "outputs": [],
      "source": [
        "df = spark.createDataFrame(rdd, schema=['a', 'b', 'name'])"
      ]
    },
    {
      "cell_type": "code",
      "execution_count": null,
      "metadata": {
        "colab": {
          "base_uri": "https://localhost:8080/"
        },
        "id": "N-G9dHQ0GMTG",
        "outputId": "270e9f3d-8ce8-4e35-8bc7-fa3ec3070ebf"
      },
      "outputs": [],
      "source": [
        "df"
      ]
    },
    {
      "cell_type": "code",
      "execution_count": null,
      "metadata": {
        "colab": {
          "base_uri": "https://localhost:8080/"
        },
        "id": "1WsgIpPwHNVw",
        "outputId": "e3f42cd6-01c2-405b-c913-bf41bc1686a5"
      },
      "outputs": [],
      "source": [
        "df.printSchema()"
      ]
    },
    {
      "cell_type": "code",
      "execution_count": null,
      "metadata": {
        "colab": {
          "base_uri": "https://localhost:8080/"
        },
        "id": "sm6msF7YHHUD",
        "outputId": "322ed13a-fa35-49a6-a88f-0430a91f2913"
      },
      "outputs": [],
      "source": [
        "df.show()"
      ]
    },
    {
      "cell_type": "code",
      "execution_count": null,
      "metadata": {
        "colab": {
          "base_uri": "https://localhost:8080/",
          "height": 143
        },
        "id": "D_e5gKxuGMTG",
        "outputId": "08644958-149f-4072-d5e8-3515080e1231"
      },
      "outputs": [],
      "source": [
        "df.toPandas()"
      ]
    },
    {
      "cell_type": "code",
      "execution_count": null,
      "metadata": {
        "colab": {
          "base_uri": "https://localhost:8080/"
        },
        "id": "mYkZ1ql2HX1x",
        "outputId": "10fb4b16-5a0d-4039-e025-fde24ac39acb"
      },
      "outputs": [],
      "source": [
        "!mkdir -p var\n",
        "!wget https://wolnelektury.pl/media/book/txt/krzyzacy-tom-pierwszy.txt -O var/krzyzacy-1.txt\n",
        "!wget https://wolnelektury.pl/media/book/txt/krzyzacy-tom-drugi.txt -O var/krzyzacy-2.txt"
      ]
    },
    {
      "cell_type": "code",
      "execution_count": 24,
      "metadata": {
        "id": "UkVKjy0eHcBC"
      },
      "outputs": [],
      "source": [
        "file = sc.textFile('var/krzyzacy*')"
      ]
    },
    {
      "cell_type": "code",
      "execution_count": 27,
      "metadata": {
        "id": "-5D0GchcHlMW"
      },
      "outputs": [],
      "source": [
        "words = (\n",
        "  file\n",
        "    .filter(lambda x: \"\" != x)\n",
        "    .flatMap(lambda x: x.split(\" \"))\n",
        "    .map(lambda x: x.lower())\n",
        "    .filter(lambda x: x != '—')\n",
        "    .map(lambda x: (x,))\n",
        ")"
      ]
    },
    {
      "cell_type": "code",
      "execution_count": 28,
      "metadata": {
        "id": "A_Zlle8TH3NA"
      },
      "outputs": [],
      "source": [
        "df = spark.createDataFrame(words, schema=['word'])"
      ]
    },
    {
      "cell_type": "code",
      "execution_count": null,
      "metadata": {
        "colab": {
          "base_uri": "https://localhost:8080/"
        },
        "id": "aZNVyORBIGxZ",
        "outputId": "83e4a3db-aea7-4109-d969-9135ea94da73"
      },
      "outputs": [],
      "source": [
        "df.show()"
      ]
    },
    {
      "cell_type": "code",
      "execution_count": 30,
      "metadata": {
        "id": "MMazZ16aIRLa"
      },
      "outputs": [],
      "source": [
        "X = spark.createDataFrame([(\"Krakow\", \"1\", {\"foo\": \"boo\"}), (\"Warszawa\", \"2\", {})], ['City', \"digit\", \"attr\"])"
      ]
    },
    {
      "cell_type": "code",
      "execution_count": null,
      "metadata": {
        "colab": {
          "base_uri": "https://localhost:8080/"
        },
        "id": "vrxYSbNHITe0",
        "outputId": "32efdba8-b3f4-43a3-d14a-359cb6fd0837"
      },
      "outputs": [],
      "source": [
        "X.show()"
      ]
    },
    {
      "cell_type": "code",
      "execution_count": null,
      "metadata": {
        "id": "drA-8n8UIr7K"
      },
      "outputs": [],
      "source": []
    },
    {
      "cell_type": "markdown",
      "metadata": {
        "id": "7zNw8QoJIsSu"
      },
      "source": [
        "## Read from MULTIPLE sources\n",
        "\n",
        "https://spark.apache.org/docs/latest/sql-data-sources.html"
      ]
    },
    {
      "cell_type": "code",
      "execution_count": 36,
      "metadata": {
        "id": "RaI3yv1KIRB7"
      },
      "outputs": [],
      "source": [
        "!echo '{\"city\":\"Lublin\",\"digit\":5,\"attr\":{\"foo\":\"zoo\"}}' > cities.list\n",
        "!echo '{\"city\":\"Bielski\",\"digit\":2,\"attr\":{\"sigma\":\"gamma\"}}' >> cities.list"
      ]
    },
    {
      "cell_type": "code",
      "execution_count": null,
      "metadata": {
        "colab": {
          "base_uri": "https://localhost:8080/"
        },
        "id": "g_qDfOv8IQ41",
        "outputId": "3843282f-a20a-4c1a-f00e-e13b5fab4f19"
      },
      "outputs": [],
      "source": [
        "cat cities.list"
      ]
    },
    {
      "cell_type": "code",
      "execution_count": 38,
      "metadata": {
        "id": "0A_qhYJaIQKr"
      },
      "outputs": [],
      "source": [
        "c = (spark.read\n",
        "     .option('dropFieldIfAllNull', True)\n",
        "     .option(\"primitivesAsString\", True)\n",
        "     .json(\"cities.list\")\n",
        "    )"
      ]
    },
    {
      "cell_type": "code",
      "execution_count": null,
      "metadata": {
        "colab": {
          "base_uri": "https://localhost:8080/"
        },
        "id": "E-OXdm7PI1YS",
        "outputId": "5cc7d712-4fdf-4932-9b23-6c9f3c15353f"
      },
      "outputs": [],
      "source": [
        "c.printSchema()"
      ]
    },
    {
      "cell_type": "code",
      "execution_count": null,
      "metadata": {
        "colab": {
          "base_uri": "https://localhost:8080/"
        },
        "id": "dhNUZ5LVI4u3",
        "outputId": "08455525-3b67-4b17-bd69-ebf74e4dab9e"
      },
      "outputs": [],
      "source": [
        "c.show()"
      ]
    },
    {
      "cell_type": "markdown",
      "metadata": {
        "id": "z5MJ4crxJJ3T"
      },
      "source": [
        "### functions\n",
        "https://spark.apache.org/docs/latest/api/python/reference/pyspark.sql/functions.html"
      ]
    },
    {
      "cell_type": "code",
      "execution_count": 42,
      "metadata": {
        "id": "7cADONKwJJaE"
      },
      "outputs": [],
      "source": [
        "import pyspark.sql.functions as F"
      ]
    },
    {
      "cell_type": "code",
      "execution_count": 43,
      "metadata": {
        "id": "n0ubXrn7JSFB"
      },
      "outputs": [],
      "source": [
        "multiplicate = F.udf(lambda x: int(x)*2)"
      ]
    },
    {
      "cell_type": "code",
      "execution_count": 44,
      "metadata": {
        "id": "b--R4mj-JVC3"
      },
      "outputs": [],
      "source": [
        "c = c.withColumn(\"multipled\", multiplicate(F.col(\"digit\")))\n",
        "c = c.withColumnRenamed('digit', 'number')"
      ]
    },
    {
      "cell_type": "code",
      "execution_count": null,
      "metadata": {
        "colab": {
          "base_uri": "https://localhost:8080/"
        },
        "id": "I8ND1qFzJZ_P",
        "outputId": "9bfb15ea-8238-4fd8-ac4a-f46ab1645706"
      },
      "outputs": [],
      "source": [
        "c.show()"
      ]
    },
    {
      "cell_type": "code",
      "execution_count": null,
      "metadata": {
        "colab": {
          "base_uri": "https://localhost:8080/"
        },
        "id": "y0PHdq72JeEE",
        "outputId": "cb6655a5-54a8-49f1-865b-12dc9f9e7449"
      },
      "outputs": [],
      "source": [
        "(c\n",
        " .select(['attr.foo','city'])\n",
        " .where('(attr.foo is not null)')\n",
        ").show()"
      ]
    },
    {
      "cell_type": "code",
      "execution_count": 47,
      "metadata": {
        "id": "ShSFwoRGJoWO"
      },
      "outputs": [],
      "source": [
        "T = spark.createDataFrame([\n",
        "    ('nice one', ['foo', 'moo', 'boo', 'zoo']),\n",
        "    ('bad one', ['foo', 'moo',])\n",
        "],\n",
        "['title', 'tags']\n",
        ")"
      ]
    },
    {
      "cell_type": "code",
      "execution_count": null,
      "metadata": {
        "colab": {
          "base_uri": "https://localhost:8080/"
        },
        "id": "LOJuQZh7Jq2L",
        "outputId": "9b89c601-a05f-4a7a-fbd3-9354e6309670"
      },
      "outputs": [],
      "source": [
        "T.select('title', F.explode('tags')).show()"
      ]
    },
    {
      "cell_type": "code",
      "execution_count": 53,
      "metadata": {
        "id": "GXwE1eCOLDNF"
      },
      "outputs": [],
      "source": [
        "kDF = spark.read.text('var/krzyzacy*.txt')\n"
      ]
    },
    {
      "cell_type": "code",
      "execution_count": null,
      "metadata": {
        "colab": {
          "base_uri": "https://localhost:8080/"
        },
        "id": "HxUph7vOLJS4",
        "outputId": "3c72f44e-eae4-4bb6-bd68-763bf809b551"
      },
      "outputs": [],
      "source": [
        "kDF.show()"
      ]
    },
    {
      "cell_type": "code",
      "execution_count": 55,
      "metadata": {
        "id": "7ebYUzJ9LUrQ"
      },
      "outputs": [],
      "source": [
        "k = kDF.withColumn(\"NewCol\", F.col(\"value\"))"
      ]
    },
    {
      "cell_type": "code",
      "execution_count": 56,
      "metadata": {
        "id": "wLbT8MCLLWbL"
      },
      "outputs": [],
      "source": [
        "k = k.drop(\"value\")"
      ]
    },
    {
      "cell_type": "code",
      "execution_count": null,
      "metadata": {
        "colab": {
          "base_uri": "https://localhost:8080/"
        },
        "id": "rUYOO3XrLXeV",
        "outputId": "9b0e9797-6469-4c0a-ea0d-17989b751d69"
      },
      "outputs": [],
      "source": [
        "k.show()"
      ]
    },
    {
      "cell_type": "code",
      "execution_count": 59,
      "metadata": {
        "id": "ueUuoi2CLZdP"
      },
      "outputs": [],
      "source": [
        "k = k.withColumns({'starts_with1': F.col(\"NewCol\"), 'x': F.col(\"NewCol\"), 'y': F.col('NewCol').startswith('A')})"
      ]
    },
    {
      "cell_type": "code",
      "execution_count": null,
      "metadata": {
        "colab": {
          "base_uri": "https://localhost:8080/"
        },
        "id": "kGnDlhL6Lhjx",
        "outputId": "b5987709-aa75-4717-96df-74a46dbd83ad"
      },
      "outputs": [],
      "source": [
        "k.filter(k['y'] == True).show()"
      ]
    },
    {
      "cell_type": "code",
      "execution_count": null,
      "metadata": {
        "colab": {
          "base_uri": "https://localhost:8080/"
        },
        "id": "eDMhHQGVGMTG",
        "outputId": "6482339d-b14c-4a57-807b-d314b0c4db83"
      },
      "outputs": [],
      "source": [
        "!mkdir -p var\n",
        "!wget -c https://data.edu.jkanclerz.com/data-science/uek/otomoto.csv -O var/otomoto.csv"
      ]
    },
    {
      "cell_type": "code",
      "execution_count": 65,
      "metadata": {
        "id": "_z7Psck6GMTG"
      },
      "outputs": [],
      "source": [
        "raw_data = sc.textFile('var/otomoto.csv')\n",
        "csv_data = (raw_data\n",
        "            .map(lambda l: l.split(\";\"))\n",
        ")\n"
      ]
    },
    {
      "cell_type": "markdown",
      "metadata": {
        "id": "B5KUtCsvGMTH"
      },
      "source": [
        "https://spark.apache.org/docs/latest/sql-data-sources-load-save-functions.html"
      ]
    },
    {
      "cell_type": "code",
      "execution_count": 76,
      "metadata": {
        "id": "_sVvrxfZGMTI"
      },
      "outputs": [],
      "source": [
        "DF = spark.read.load(\"var/otomoto.csv\", format=\"csv\", sep=\";\", inferSchema=\"true\", header=\"true\")"
      ]
    },
    {
      "cell_type": "code",
      "execution_count": null,
      "metadata": {
        "colab": {
          "base_uri": "https://localhost:8080/"
        },
        "id": "XHVFmzQUGMTI",
        "outputId": "b90b46eb-7d3a-4f06-9ab9-aacb6365ce9b"
      },
      "outputs": [],
      "source": [
        "DF.show()"
      ]
    },
    {
      "cell_type": "code",
      "execution_count": null,
      "metadata": {
        "colab": {
          "base_uri": "https://localhost:8080/",
          "height": 187
        },
        "id": "CNcSD7X6GMTI",
        "outputId": "d2e7d110-5d44-4a2f-c252-037f0a8194dc"
      },
      "outputs": [],
      "source": [
        "type(DF)"
      ]
    },
    {
      "cell_type": "code",
      "execution_count": 81,
      "metadata": {
        "id": "8GvlPVXSGMTI"
      },
      "outputs": [],
      "source": [
        "DF.createOrReplaceTempView(\"cars\")"
      ]
    },
    {
      "cell_type": "code",
      "execution_count": 82,
      "metadata": {
        "id": "ymL0-MrHGMTI"
      },
      "outputs": [],
      "source": [
        "volvos = spark.sql(\"\"\"\n",
        "    Select `Marka pojazdu` as marka, `Model pojazdu` as model, `price`, `przebieg`, `Rok produkcji` as rok  from cars\n",
        "    WHERE `Marka pojazdu` = \"Volvo\"\n",
        "    AND `Model pojazdu` = \"XC 60\"\n",
        "\"\"\")"
      ]
    },
    {
      "cell_type": "code",
      "execution_count": null,
      "metadata": {
        "colab": {
          "base_uri": "https://localhost:8080/",
          "height": 187
        },
        "id": "kvai9PhWGMTI",
        "outputId": "2bb205c9-45ff-47e9-9296-32fa85ff3355"
      },
      "outputs": [],
      "source": [
        "type(volvos)"
      ]
    },
    {
      "cell_type": "markdown",
      "metadata": {
        "id": "GaJItvz9GMTI"
      },
      "source": [
        "The results of SQL queries are RDDs and support all the normal RDD operations."
      ]
    },
    {
      "cell_type": "code",
      "execution_count": null,
      "metadata": {
        "colab": {
          "base_uri": "https://localhost:8080/"
        },
        "id": "LdUMfKwGGMTI",
        "outputId": "5548b6d5-3651-479c-9cf3-8df0f29030aa"
      },
      "outputs": [],
      "source": [
        "volvos.take(1)"
      ]
    },
    {
      "cell_type": "code",
      "execution_count": null,
      "metadata": {
        "colab": {
          "base_uri": "https://localhost:8080/"
        },
        "id": "Uo9RO5cwGMTI",
        "outputId": "aca2d679-1178-4503-d9e8-135a960d7e93"
      },
      "outputs": [],
      "source": [
        "volvos.show()"
      ]
    },
    {
      "cell_type": "code",
      "execution_count": null,
      "metadata": {
        "colab": {
          "base_uri": "https://localhost:8080/"
        },
        "id": "DbPiYn1PGMTI",
        "outputId": "2da16c6e-1317-4605-c67d-9ead96894b1d"
      },
      "outputs": [],
      "source": [
        "for volvo in volvos.collect():\n",
        "    print(\"{} for {} with millage {}\".format(volvo.model, volvo.price, volvo.przebieg))"
      ]
    },
    {
      "cell_type": "code",
      "execution_count": null,
      "metadata": {
        "id": "xOdzeMbjGMTJ",
        "outputId": "b47b3b70-517c-4ae1-9070-aea4e0f5c6c5"
      },
      "outputs": [],
      "source": [
        "DF.printSchema()"
      ]
    },
    {
      "cell_type": "markdown",
      "metadata": {
        "id": "-qefixvOGMTJ"
      },
      "source": [
        "### Queries as DataFrame operations\n"
      ]
    },
    {
      "cell_type": "code",
      "execution_count": null,
      "metadata": {
        "colab": {
          "base_uri": "https://localhost:8080/"
        },
        "id": "fkKAapTsGMTJ",
        "outputId": "69f59aff-2e2f-4eab-964f-312150d7c187"
      },
      "outputs": [],
      "source": [
        "(DF\n",
        "     .select(\"Marka pojazdu\")\n",
        "     .groupBy(\"Marka pojazdu\")\n",
        "     .count()\n",
        "     .show()\n",
        ")"
      ]
    },
    {
      "cell_type": "code",
      "execution_count": null,
      "metadata": {
        "colab": {
          "base_uri": "https://localhost:8080/"
        },
        "id": "ZrUGANnOGMTJ",
        "outputId": "d4def612-8f3b-4991-f0a2-d632e522f26f"
      },
      "outputs": [],
      "source": [
        "DF.select(DF[\"Model pojazdu\"]) \\\n",
        "    .filter(DF[\"Marka pojazdu\"]==\"Volvo\") \\\n",
        "    .groupBy(\"Model pojazdu\") \\\n",
        "    .count().show()"
      ]
    },
    {
      "cell_type": "code",
      "execution_count": 89,
      "metadata": {
        "id": "MacaQVchMcnO"
      },
      "outputs": [],
      "source": [
        "spark.stop()"
      ]
    },
    {
      "cell_type": "code",
      "execution_count": null,
      "metadata": {
        "id": "-J4Yl1iBMdpa"
      },
      "outputs": [],
      "source": []
    }
  ],
  "metadata": {
    "colab": {
      "provenance": []
    },
    "kernelspec": {
      "display_name": "Python 3 (ipykernel)",
      "language": "python",
      "name": "python3"
    },
    "language_info": {
      "codemirror_mode": {
        "name": "ipython",
        "version": 3
      },
      "file_extension": ".py",
      "mimetype": "text/x-python",
      "name": "python",
      "nbconvert_exporter": "python",
      "pygments_lexer": "ipython3",
      "version": "3.10.9"
    },
    "vscode": {
      "interpreter": {
        "hash": "1a1af0ee75eeea9e2e1ee996c87e7a2b11a0bebd85af04bb136d915cefc0abce"
      }
    }
  },
  "nbformat": 4,
  "nbformat_minor": 0
}
