{
 "cells": [
  {
   "cell_type": "markdown",
   "id": "0136d11a",
   "metadata": {},
   "source": [
    "[![Open In Colab](https://colab.research.google.com/assets/colab-badge.svg)](https://githubtocolab.com/jkanclerz/data-science-workshop-2024/blob/main/99--exercises/23--cars.ipynb)"
   ]
  },
  {
   "cell_type": "markdown",
   "id": "30928c92",
   "metadata": {},
   "source": [
    "## Jobs "
   ]
  },
  {
   "cell_type": "code",
   "execution_count": null,
   "id": "343382d2-95bc-466f-9748-cffdc051a97c",
   "metadata": {},
   "outputs": [],
   "source": [
    "!mkdir -p var/"
   ]
  },
  {
   "cell_type": "code",
   "execution_count": null,
   "id": "078cabff-d678-42ce-870e-ad36c1e50237",
   "metadata": {},
   "outputs": [],
   "source": [
    "!wget https://data.edu.jkanclerz.com/data-science/uek/datasets/cars.zip -O var/cars.zip"
   ]
  },
  {
   "cell_type": "code",
   "execution_count": null,
   "id": "f547d52a-82a5-483a-b202-1bc061cfcd42",
   "metadata": {},
   "outputs": [],
   "source": [
    "!unzip var/cars.zip -d var/"
   ]
  },
  {
   "cell_type": "code",
   "execution_count": null,
   "id": "06cfdaa8-fb3c-4f00-ab13-6d44686183d4",
   "metadata": {},
   "outputs": [],
   "source": [
    "pip install pandas"
   ]
  },
  {
   "cell_type": "code",
   "execution_count": null,
   "id": "d34104b7-91b8-4ffa-9bcb-6291ae713a35",
   "metadata": {},
   "outputs": [],
   "source": [
    "import glob\n",
    "import json\n",
    "import pandas as pd "
   ]
  },
  {
   "cell_type": "code",
   "execution_count": null,
   "id": "02d98df1-9493-42e8-8d38-4e01adcce2ec",
   "metadata": {},
   "outputs": [],
   "source": [
    "cars = glob.glob('./var/cars/**/*.json', recursive=True)"
   ]
  },
  {
   "cell_type": "code",
   "execution_count": null,
   "id": "59dd9f63-0441-43e1-bea8-e17326075118",
   "metadata": {},
   "outputs": [],
   "source": [
    "cars_as_json = (json.load(open(path)) for path in cars)"
   ]
  },
  {
   "cell_type": "code",
   "execution_count": null,
   "id": "050216be-5c12-4fe3-b7c8-7884217be467",
   "metadata": {},
   "outputs": [],
   "source": [
    "df = pd.DataFrame(cars_as_json)\n",
    "data = df"
   ]
  },
  {
   "cell_type": "code",
   "execution_count": null,
   "id": "4d163592",
   "metadata": {},
   "outputs": [],
   "source": [
    "df.shape"
   ]
  },
  {
   "cell_type": "code",
   "execution_count": null,
   "id": "08a7c25f-8c70-449d-a525-a8185b803bc0",
   "metadata": {},
   "outputs": [],
   "source": [
    "df.dtypes"
   ]
  },
  {
   "cell_type": "code",
   "execution_count": null,
   "id": "ff91db05-7908-461b-8ecb-5d04a75927d7",
   "metadata": {},
   "outputs": [],
   "source": [
    "df = data"
   ]
  },
  {
   "cell_type": "code",
   "execution_count": null,
   "id": "aaab43cb-b455-4a49-87db-6a59bc42ac70",
   "metadata": {},
   "outputs": [],
   "source": [
    "df = df.rename(columns={\n",
    "    \"Marka pojazdu\": \"marka\",\n",
    "    \"Model pojazdu\": \"model\",\n",
    "    \"Rok produkcji\": \"rok_produkcji\",\n",
    "    \"Zarejestrowany w Polsce\": \"rejstracja_polska\",\n",
    "    \"Przebieg\": \"przebieg\",\n",
    "    \"Rodzaj paliwa\": \"paliwo\",\n",
    "    \"Kraj pochodzenia\": \"kraj_pochodzenia\",\n",
    "    \"Pierwszy właściciel\": \"prierwszy_wlasciciel\"\n",
    "})"
   ]
  },
  {
   "cell_type": "code",
   "execution_count": null,
   "id": "d8d31f15-72e8-4732-849e-d71c59cf5e4b",
   "metadata": {},
   "outputs": [],
   "source": [
    "df.columns"
   ]
  },
  {
   "cell_type": "code",
   "execution_count": null,
   "id": "fc6fbb67-abb2-45f3-a3f3-d8a64c68fe6a",
   "metadata": {},
   "outputs": [],
   "source": [
    "df.head()"
   ]
  },
  {
   "cell_type": "markdown",
   "id": "deda635f-5a0d-4636-8fa9-dffef7e2faa0",
   "metadata": {},
   "source": [
    "## Understand the data by observing a few rows"
   ]
  },
  {
   "cell_type": "code",
   "execution_count": null,
   "id": "2786047b-e88f-49fe-bda1-9a8be414fd9d",
   "metadata": {},
   "outputs": [],
   "source": [
    "pd.set_option('display.max_columns', None)"
   ]
  },
  {
   "cell_type": "code",
   "execution_count": null,
   "id": "79e218dc-9c23-48cf-848d-89d909ce524f",
   "metadata": {},
   "outputs": [],
   "source": [
    "df.head()"
   ]
  },
  {
   "cell_type": "code",
   "execution_count": null,
   "id": "a452c7dc-3ae7-4c2f-8a66-c83b42313087",
   "metadata": {},
   "outputs": [],
   "source": [
    "df.tail()"
   ]
  },
  {
   "cell_type": "markdown",
   "id": "ffea0686-548e-4359-9621-8fb17616b35d",
   "metadata": {},
   "source": [
    "### dtypes, values, shape"
   ]
  },
  {
   "cell_type": "code",
   "execution_count": null,
   "id": "2b136ac5-5326-4ee9-86d0-c33cd05c52b5",
   "metadata": {},
   "outputs": [],
   "source": [
    "df.dtypes"
   ]
  },
  {
   "cell_type": "code",
   "execution_count": null,
   "id": "fcd75515-6325-469e-8028-7d14492d9f4e",
   "metadata": {},
   "outputs": [],
   "source": [
    "df.describe().T"
   ]
  },
  {
   "cell_type": "code",
   "execution_count": null,
   "id": "09086eca-529e-4103-aabe-0c41d136cc85",
   "metadata": {},
   "outputs": [],
   "source": [
    "df = df[['id', 'marka', 'model', 'price', 'rok_produkcji', 'przebieg', \"kraj_pochodzenia\", \"paliwo\", \"prierwszy_wlasciciel\"]]"
   ]
  },
  {
   "cell_type": "code",
   "execution_count": null,
   "id": "8942d419-b30d-4b7c-9036-6f987d9d8fb7",
   "metadata": {},
   "outputs": [],
   "source": [
    "df.dtypes"
   ]
  },
  {
   "cell_type": "markdown",
   "id": "097bfb76-bc6b-4806-917f-d3632bf728b2",
   "metadata": {},
   "source": [
    "## Clearing transformations"
   ]
  },
  {
   "cell_type": "code",
   "execution_count": null,
   "id": "bc7f50b1-90c1-4ec0-a5fd-1f13f9066b07",
   "metadata": {},
   "outputs": [],
   "source": [
    "df = df.replace('', None)"
   ]
  },
  {
   "cell_type": "code",
   "execution_count": null,
   "id": "4c0665db-6ce7-4404-8fdd-3f8259ca176d",
   "metadata": {},
   "outputs": [],
   "source": [
    "df.isna().sum()"
   ]
  },
  {
   "cell_type": "code",
   "execution_count": null,
   "id": "9d92b1fa-58fa-4d41-b652-1e2eec2fb72d",
   "metadata": {},
   "outputs": [],
   "source": [
    "df = df.dropna()"
   ]
  },
  {
   "cell_type": "code",
   "execution_count": null,
   "id": "b83b37f6-ab01-4a15-b037-ff39a1f69ea8",
   "metadata": {},
   "outputs": [],
   "source": []
  },
  {
   "cell_type": "code",
   "execution_count": null,
   "id": "837e99a6-066c-4e3c-bc01-77e807bb424d",
   "metadata": {},
   "outputs": [],
   "source": [
    "def clear_millage(millage_as_str):\n",
    "    return int(str(millage_as_str)\n",
    "               .replace('km', '')\n",
    "               .replace(' ', '')\n",
    "           )\n",
    "\n",
    "assert clear_millage('172 000 km') == 172000"
   ]
  },
  {
   "cell_type": "code",
   "execution_count": null,
   "id": "30707495-c92a-4893-b0e0-4555a37952ab",
   "metadata": {},
   "outputs": [],
   "source": [
    "df['przebieg'] = df['przebieg'].apply(clear_millage)"
   ]
  },
  {
   "cell_type": "code",
   "execution_count": null,
   "id": "2692dc2f-2961-40aa-83b3-b77b5eb26b6b",
   "metadata": {},
   "outputs": [],
   "source": [
    "df['price'] = df['price'].apply(float)\n",
    "df['rok_produkcji'] = df['rok_produkcji'].apply(int)"
   ]
  },
  {
   "cell_type": "code",
   "execution_count": null,
   "id": "e3d32323-0319-4235-b6e2-ea81b816670a",
   "metadata": {},
   "outputs": [],
   "source": [
    "df['year_as_dt'] = pd.to_datetime(df['rok_produkcji'], format='%Y')"
   ]
  },
  {
   "cell_type": "code",
   "execution_count": null,
   "id": "7d6c7448-9d36-417c-83e3-e3ed59013d24",
   "metadata": {},
   "outputs": [],
   "source": [
    "df.describe().T"
   ]
  },
  {
   "cell_type": "code",
   "execution_count": null,
   "id": "dacb1588-1a63-4fab-96e1-21500a72e14c",
   "metadata": {},
   "outputs": [],
   "source": [
    "df['przebieg'].quantile(q=0.95), df['przebieg'].quantile(q=0.99)"
   ]
  },
  {
   "cell_type": "code",
   "execution_count": null,
   "id": "4340bbc3-9fac-47fb-8212-cf53c6418bf2",
   "metadata": {},
   "outputs": [],
   "source": [
    "df['price'].quantile(q=0.95), df['price'].quantile(q=0.99)"
   ]
  },
  {
   "cell_type": "code",
   "execution_count": null,
   "id": "86c47bf2-c8b9-4bca-ab87-cd58423c99b9",
   "metadata": {},
   "outputs": [],
   "source": [
    "df = df[df['przebieg'] < df['przebieg'].quantile(q=0.99)]"
   ]
  },
  {
   "cell_type": "code",
   "execution_count": null,
   "id": "3f788b59-9624-4ad7-8274-38ea7c71fb46",
   "metadata": {},
   "outputs": [],
   "source": [
    "df.dtypes"
   ]
  },
  {
   "cell_type": "markdown",
   "id": "579bf272-e1c7-45ad-85b9-1dd2998fb143",
   "metadata": {},
   "source": [
    "## Save intermediate"
   ]
  },
  {
   "cell_type": "code",
   "execution_count": null,
   "id": "8709974f-c8ab-4628-8407-cae1ff258a33",
   "metadata": {},
   "outputs": [],
   "source": [
    "df.to_csv(\"var/cars.csv\")"
   ]
  },
  {
   "cell_type": "code",
   "execution_count": null,
   "id": "5cedec49-7332-40c3-bdbf-2edaafacd851",
   "metadata": {},
   "outputs": [],
   "source": [
    "loaded_csv = pd.read_csv(\"var/cars.csv\")"
   ]
  },
  {
   "cell_type": "code",
   "execution_count": null,
   "id": "132e92b2-de0d-42e7-86e6-ca0f93ba07a8",
   "metadata": {},
   "outputs": [],
   "source": [
    "loaded_csv.dtypes"
   ]
  },
  {
   "cell_type": "code",
   "execution_count": null,
   "id": "fe75e7bf-6b09-41b9-a053-2ec0f7dbe0d7",
   "metadata": {},
   "outputs": [],
   "source": [
    "pip install fastparquet pyarrow"
   ]
  },
  {
   "cell_type": "code",
   "execution_count": null,
   "id": "7f1cdd89-f2d5-44eb-802d-d3251bbad211",
   "metadata": {},
   "outputs": [],
   "source": [
    "df.to_parquet('cars.parquet.gzip', compression='gzip')"
   ]
  },
  {
   "cell_type": "code",
   "execution_count": null,
   "id": "ff558512-6561-4198-bb2a-a19d1c953706",
   "metadata": {},
   "outputs": [],
   "source": [
    "loaded_parquet = pd.read_parquet('cars.parquet.gzip')"
   ]
  },
  {
   "cell_type": "code",
   "execution_count": null,
   "id": "9ca92224-0779-4058-8727-debcaf0f15b8",
   "metadata": {},
   "outputs": [],
   "source": [
    "loaded_parquet.dtypes"
   ]
  },
  {
   "cell_type": "code",
   "execution_count": null,
   "id": "69a9b24c-35b9-4891-9a81-4fa18bcb13b4",
   "metadata": {},
   "outputs": [],
   "source": [
    "cars = loaded_parquet"
   ]
  },
  {
   "cell_type": "code",
   "execution_count": null,
   "id": "c3afa513-ec38-4380-b99a-a5d856237ca1",
   "metadata": {},
   "outputs": [],
   "source": [
    "cars.describe().T"
   ]
  },
  {
   "cell_type": "code",
   "execution_count": null,
   "id": "dff0559b-a450-4ac7-9306-a557764a1ba8",
   "metadata": {},
   "outputs": [],
   "source": [
    "cars[['marka', 'model']].describe()"
   ]
  },
  {
   "cell_type": "markdown",
   "id": "0c53a5d7-ab37-4bc0-ba8d-cb1e134b19c7",
   "metadata": {},
   "source": [
    "## Overview single feature - Univariate Analysis"
   ]
  },
  {
   "cell_type": "code",
   "execution_count": null,
   "id": "785c14bb-5f9a-43a5-b668-352b184fa85d",
   "metadata": {},
   "outputs": [],
   "source": [
    "pip install matplotlib seaborn"
   ]
  },
  {
   "cell_type": "code",
   "execution_count": null,
   "id": "349b08e7-dd05-4e83-8d0b-903b79f25e6f",
   "metadata": {},
   "outputs": [],
   "source": [
    "import matplotlib.pyplot as plt\n",
    "import seaborn as sns\n",
    "import numpy as np"
   ]
  },
  {
   "cell_type": "code",
   "execution_count": null,
   "id": "98f7f1d6-6532-4a34-ae0c-1e0a72dbb120",
   "metadata": {},
   "outputs": [],
   "source": [
    "def histogram_boxplot(data, feature, figsize = (12, 7), kde = False, bins = None):\n",
    "    \"\"\"\n",
    "    Boxplot and histogram combined\n",
    "\n",
    "    data: dataframe\n",
    "    feature: dataframe column\n",
    "    figsize: size of figure (default (12,7))\n",
    "    kde: whether to show density curve (default False)\n",
    "    bins: number of bins for histogram (default None)\n",
    "    \"\"\"\n",
    "    f2, (ax_box2, ax_hist2) = plt.subplots(\n",
    "        nrows = 2,     \n",
    "        sharex = True,\n",
    "        gridspec_kw = {\"height_ratios\": (0.25, 0.75)},\n",
    "        figsize = figsize,\n",
    "    )  \n",
    "    sns.boxplot(\n",
    "        data = data, x = feature, ax = ax_box2, showmeans = True, color = \"blue\"\n",
    "    ) \n",
    "    sns.histplot(\n",
    "        data = data, x = feature, kde = kde, ax = ax_hist2, bins = bins, palette = \"winter\"\n",
    "    ) if bins else sns.histplot(\n",
    "        data = data, x = feature, kde = kde, ax = ax_hist2\n",
    "    )                   # For histogram\n",
    "    ax_hist2.axvline(\n",
    "        data[feature].mean(), color = \"green\", linestyle = \"--\"\n",
    "    )                   # Add mean to the histogram\n",
    "    ax_hist2.axvline(\n",
    "        data[feature].median(), color = \"red\", linestyle = \"-\"\n",
    "    )   "
   ]
  },
  {
   "cell_type": "code",
   "execution_count": null,
   "id": "2196224d-434e-4dd3-9429-d4a114b2bb78",
   "metadata": {},
   "outputs": [],
   "source": [
    "histogram_boxplot(cars, 'przebieg')"
   ]
  },
  {
   "cell_type": "code",
   "execution_count": null,
   "id": "d16f6aad-102f-462e-b530-759fb617f042",
   "metadata": {},
   "outputs": [],
   "source": [
    "histogram_boxplot(cars, 'price')"
   ]
  },
  {
   "cell_type": "code",
   "execution_count": null,
   "id": "8b6cd341-27f0-486e-a31b-f57d670868a8",
   "metadata": {},
   "outputs": [],
   "source": [
    "sns.displot(np.log(cars[\"price\"]), kde=False, height=7, aspect=12/7)\n",
    "plt.show()"
   ]
  },
  {
   "cell_type": "markdown",
   "id": "2113ae5a-d14c-4d34-bbfd-6818b262fc3a",
   "metadata": {},
   "source": [
    "### transform to log? "
   ]
  },
  {
   "cell_type": "code",
   "execution_count": null,
   "id": "1ba20886-8117-4ea3-aded-27f34fe88137",
   "metadata": {},
   "outputs": [],
   "source": [
    "cars['price_log'] = np.log(cars['price'])"
   ]
  },
  {
   "cell_type": "code",
   "execution_count": null,
   "id": "de642d43-b82c-434f-a07e-447a55848840",
   "metadata": {},
   "outputs": [],
   "source": [
    "cars"
   ]
  },
  {
   "cell_type": "markdown",
   "id": "0533b5d6-8d30-4c38-be4a-5d120a8a1482",
   "metadata": {},
   "source": [
    "## Univariate analysis - Categorical Data"
   ]
  },
  {
   "cell_type": "code",
   "execution_count": null,
   "id": "feedb2d3-b2c2-4025-9e1e-0124070cea8b",
   "metadata": {},
   "outputs": [],
   "source": [
    "category_counts = df['marka'].value_counts()\n",
    "top_brands = cars[cars['marka'].isin(category_counts.head(15).index)]"
   ]
  },
  {
   "cell_type": "code",
   "execution_count": null,
   "id": "59ed1c0e-85eb-4352-9559-fb0060aad5b1",
   "metadata": {},
   "outputs": [],
   "source": [
    "plt.figure(figsize=(12, 7)) \n",
    "\n",
    "sns.countplot(x='marka', data=top_brands, hue='marka')\n",
    "\n",
    "plt.xticks(rotation=90)\n",
    "plt.title('Distribution of Brand Variable')\n",
    "plt.xlabel('Brand')\n",
    "plt.ylabel('Count')"
   ]
  },
  {
   "cell_type": "code",
   "execution_count": null,
   "id": "fdf345cc-c067-4cc8-9185-2f2c6a083f02",
   "metadata": {},
   "outputs": [],
   "source": [
    "def perc_on_bar(data, z):\n",
    "    total = len(data[z])\n",
    "    plt.figure(figsize=(12, 5))\n",
    "    palette = sns.color_palette(\"Set2\", n_colors=data[z].nunique())\n",
    "           \n",
    "    ax = sns.countplot(data=data, x=z, hue=z, order=data[z].value_counts().index)\n",
    "    for p in ax.patches:\n",
    "        percentage = '{:.1f}%'.format(100 * p.get_height() / total)\n",
    "        x = p.get_x() + p.get_width() / 2 - 0.05\n",
    "        y = p.get_y() + p.get_height() - 1\n",
    "\n",
    "        ax.annotate(percentage, (x, y), size=12, ha='center')  # Annotate the percentage with center alignment\n",
    "    plt.xticks(rotation=90)\n",
    "    plt.show()"
   ]
  },
  {
   "cell_type": "code",
   "execution_count": null,
   "id": "fc5378dc-b255-42a6-aa70-837f38e55d32",
   "metadata": {},
   "outputs": [],
   "source": [
    "perc_on_bar(top_brands, 'marka')"
   ]
  },
  {
   "cell_type": "code",
   "execution_count": null,
   "id": "7db74323-9bf1-4490-a967-72014b3e9911",
   "metadata": {},
   "outputs": [],
   "source": [
    "plt.figure(figsize=(12, 7)) \n",
    "\n",
    "sns.countplot(x='paliwo', data=cars, hue=\"paliwo\")\n",
    "\n",
    "plt.xticks(rotation=90)"
   ]
  },
  {
   "cell_type": "markdown",
   "id": "2dba3a29-b559-466b-8e27-6b6448eba008",
   "metadata": {},
   "source": [
    "## Bivariate Analysis"
   ]
  },
  {
   "cell_type": "code",
   "execution_count": null,
   "id": "05ca434d-3ad1-4003-a58d-bc61935c9356",
   "metadata": {},
   "outputs": [],
   "source": [
    "cars"
   ]
  },
  {
   "cell_type": "markdown",
   "id": "2d56d48a-0182-4fc7-ae3e-613936750652",
   "metadata": {},
   "source": [
    "### Scatter plot"
   ]
  },
  {
   "cell_type": "code",
   "execution_count": null,
   "id": "1ab902de-36ee-4fd1-88f6-2aa38722d248",
   "metadata": {},
   "outputs": [],
   "source": [
    "fig, axes = plt.subplots(1, 2, figsize=(12, 7))\n",
    "\n",
    "cars.plot(x = 'price_log', y = 'year_as_dt', style = '.', ax=axes[0])\n",
    "axes[0].set_title('Price vs Year')\n",
    "axes[0].set_xlabel('Price')\n",
    "axes[0].set_ylabel('Year')\n",
    "\n",
    "cars.plot(x = 'price', y = 'year_as_dt', style = '.', ax=axes[1])\n",
    "axes[1].set_title('Log(Price) vs Year')\n",
    "axes[1].set_xlabel('Log(Price)')\n",
    "axes[1].set_ylabel('Year')\n",
    "\n",
    "\n"
   ]
  },
  {
   "cell_type": "code",
   "execution_count": null,
   "id": "bd57dcb4-4088-4d73-950f-c7d2a39d68fe",
   "metadata": {},
   "outputs": [],
   "source": [
    "cars.plot(x = 'przebieg', y = 'year_as_dt', style = '.')"
   ]
  },
  {
   "cell_type": "code",
   "execution_count": null,
   "id": "776e450e-338c-4854-90b5-986d5533f20e",
   "metadata": {},
   "outputs": [],
   "source": [
    "cars.plot(x = 'przebieg', y = 'price', style = '.')"
   ]
  },
  {
   "cell_type": "code",
   "execution_count": null,
   "id": "e7696d0a-027c-4057-adaf-ad50e624a1c1",
   "metadata": {},
   "outputs": [],
   "source": [
    "from pandas.plotting import scatter_matrix"
   ]
  },
  {
   "cell_type": "code",
   "execution_count": null,
   "id": "fac54f85-f101-42d3-aea3-7696ab313db0",
   "metadata": {},
   "outputs": [],
   "source": [
    "plt.figure(figsize=(12, 8))\n",
    "scatter_matrix(cars, figsize=(12, 8), diagonal='hist', alpha=0.7)"
   ]
  },
  {
   "cell_type": "markdown",
   "id": "be043882-f82a-42c7-a597-9de9ef6a14d0",
   "metadata": {},
   "source": [
    "## Heat map"
   ]
  },
  {
   "cell_type": "code",
   "execution_count": null,
   "id": "0749ac52-8b12-4fbd-8b6a-5f53018a7dbd",
   "metadata": {},
   "outputs": [],
   "source": [
    "plt.figure(figsize = (12, 7))\n",
    "\n",
    "sns.heatmap(cars.drop(['model', 'marka', 'id'], axis = 1).corr(numeric_only = True), annot = True, vmin = -1, vmax = 1)\n",
    "\n",
    "plt.show()"
   ]
  },
  {
   "cell_type": "markdown",
   "id": "e6e41cd5-6273-433f-be92-6381ed1da3a7",
   "metadata": {},
   "source": [
    "## Box plot"
   ]
  },
  {
   "cell_type": "code",
   "execution_count": null,
   "id": "d3be7846-7626-435a-8901-1e4e0cd64104",
   "metadata": {},
   "outputs": [],
   "source": [
    "def boxplot(z):\n",
    "    plt.figure(figsize = (12, 5))\n",
    "    sns.boxplot(x = z, y = cars['price'])\n",
    "    plt.yticks(range(0, int(cars['price'].max()) + 1000000, 1000000))\n",
    "    plt.show()\n",
    "    \n",
    "    plt.figure(figsize = (12, 5))\n",
    "    plt.title('No Outliers')\n",
    "    sns.boxplot(x = z, y = cars['price'], showfliers = False)\n",
    "    plt.show()"
   ]
  },
  {
   "cell_type": "code",
   "execution_count": null,
   "id": "3b25976c-04f8-42e1-9638-86f2847c2941",
   "metadata": {},
   "outputs": [],
   "source": [
    "boxplot(cars['paliwo'])"
   ]
  },
  {
   "cell_type": "markdown",
   "id": "56aefb50-592c-4681-8c33-5264d7bf4a41",
   "metadata": {},
   "source": [
    "### Building Various Models"
   ]
  },
  {
   "cell_type": "code",
   "execution_count": null,
   "id": "d138caad-eba6-4933-bc32-a84ff04639eb",
   "metadata": {},
   "outputs": [],
   "source": [
    "cars.head(1)"
   ]
  },
  {
   "cell_type": "code",
   "execution_count": null,
   "id": "a1faaabf-ca7a-4e5d-adea-4637324fea40",
   "metadata": {},
   "outputs": [],
   "source": [
    "data = cars[['marka', 'rok_produkcji', 'przebieg', 'paliwo']]"
   ]
  },
  {
   "cell_type": "code",
   "execution_count": null,
   "id": "e1c07b9a-c1c7-482b-9e56-850e1941ae0a",
   "metadata": {},
   "outputs": [],
   "source": [
    "data.describe().T"
   ]
  },
  {
   "cell_type": "code",
   "execution_count": null,
   "id": "a4334d83-b95f-4f62-bed7-2b5d20455219",
   "metadata": {},
   "outputs": [],
   "source": [
    "data[['paliwo']].describe()"
   ]
  },
  {
   "cell_type": "code",
   "execution_count": null,
   "id": "98a32596-2c03-4605-8c85-6f29bffd7c75",
   "metadata": {},
   "outputs": [],
   "source": [
    "pd.get_dummies(data, drop_first=True).head(1)"
   ]
  },
  {
   "cell_type": "code",
   "execution_count": null,
   "id": "5d87a066-3ca4-43f3-9207-dc11e4abeb18",
   "metadata": {},
   "outputs": [],
   "source": [
    "pd.get_dummies(data).head(1)"
   ]
  },
  {
   "cell_type": "code",
   "execution_count": null,
   "id": "68ad3683-78b1-4dc6-a79b-3956a090d210",
   "metadata": {},
   "outputs": [],
   "source": [
    "X = pd.get_dummies(data, drop_first=True)"
   ]
  },
  {
   "cell_type": "code",
   "execution_count": null,
   "id": "95127fa5-de0d-4678-a6da-98715261a7dd",
   "metadata": {},
   "outputs": [],
   "source": [
    "y = cars[['price_log', 'price']]"
   ]
  },
  {
   "cell_type": "code",
   "execution_count": null,
   "id": "aeb58568-6c8b-484e-b1a7-3aaa500cd199",
   "metadata": {},
   "outputs": [],
   "source": [
    "pip install scikit-learn"
   ]
  },
  {
   "cell_type": "code",
   "execution_count": null,
   "id": "df89d528-2a4a-4386-9cc0-e2698e34a911",
   "metadata": {},
   "outputs": [],
   "source": [
    "from sklearn.model_selection import train_test_split"
   ]
  },
  {
   "cell_type": "code",
   "execution_count": null,
   "id": "80c95d13-dfce-4c30-aca9-9b75d0e677fc",
   "metadata": {},
   "outputs": [],
   "source": [
    "# Step-3 Splitting data into training and test set:\n",
    "X_train, X_test, y_train, y_test = train_test_split(X, y, test_size = 0.3, random_state = 1)\n",
    "\n",
    "(X_train.shape, X_test.shape), (y_train.shape, y_test.shape)"
   ]
  },
  {
   "cell_type": "code",
   "execution_count": null,
   "id": "f32e670d-84cb-415c-9403-24a6c29b687e",
   "metadata": {},
   "outputs": [],
   "source": [
    "from sklearn import metrics\n",
    "\n",
    "def get_model_score(model, flag = True):\n",
    "\n",
    "    pred_train = model.predict(X_train)\n",
    "    pred_train_ = np.exp(pred_train)\n",
    "    pred_test = model.predict(X_test)\n",
    "    pred_test_ = np.exp(pred_test)\n",
    "    \n",
    "    score_list = []\n",
    "    train_r2 = metrics.r2_score(y_train['price'], pred_train_)\n",
    "    test_r2 = metrics.r2_score(y_test['price'], pred_test_)\n",
    "    train_rmse = metrics.mean_squared_error(y_train['price'], pred_train_)\n",
    "    test_rmse = metrics.mean_squared_error(y_test['price'], pred_test_)\n",
    "    score_list.extend((train_r2, test_r2, train_rmse, test_rmse))\n",
    "\n",
    "    print(\"R-sqaure on training set : \", metrics.r2_score(y_train['price'], pred_train_))\n",
    "    print(\"R-square on test set : \", metrics.r2_score(y_test['price'], pred_test_))\n",
    "    print(\"RMSE on training set : \", np.sqrt(metrics.mean_squared_error(y_train['price'], pred_train_)))\n",
    "    print(\"RMSE on test set : \", np.sqrt(metrics.mean_squared_error(y_test['price'], pred_test_)))\n",
    "\n",
    "    # Returning the list with train and test scores\n",
    "    return score_list"
   ]
  },
  {
   "cell_type": "markdown",
   "id": "d76343ed-ff0f-4eed-9d5f-cd6476cebcc1",
   "metadata": {},
   "source": [
    "### LinearRegression"
   ]
  },
  {
   "cell_type": "code",
   "execution_count": null,
   "id": "b47f8587-85be-4786-aadf-5f5672aa9ced",
   "metadata": {},
   "outputs": [],
   "source": [
    "from sklearn.linear_model import LinearRegression"
   ]
  },
  {
   "cell_type": "code",
   "execution_count": null,
   "id": "00522144-5ee9-427c-84a1-b47870fb71e3",
   "metadata": {},
   "outputs": [],
   "source": [
    "lr = LinearRegression()"
   ]
  },
  {
   "cell_type": "code",
   "execution_count": null,
   "id": "da212561-e537-4432-b2c3-931e5dbd5f8c",
   "metadata": {},
   "outputs": [],
   "source": [
    "lr.fit(X_train, y_train['price_log'])"
   ]
  },
  {
   "cell_type": "code",
   "execution_count": null,
   "id": "2170b729-7d9f-4a2f-963a-93b50fa87ab6",
   "metadata": {},
   "outputs": [],
   "source": [
    "LR_score = get_model_score(lr)"
   ]
  },
  {
   "cell_type": "code",
   "execution_count": null,
   "id": "abdbe8dc-7b14-4048-9322-734426c6d585",
   "metadata": {},
   "outputs": [],
   "source": [
    "X.sample(3, random_state=1)"
   ]
  },
  {
   "cell_type": "code",
   "execution_count": null,
   "id": "cb0cda77-f9c2-4f89-bdd6-febfe8725804",
   "metadata": {},
   "outputs": [],
   "source": [
    "to_be_predicted = X.sample(1, random_state=1)"
   ]
  },
  {
   "cell_type": "code",
   "execution_count": null,
   "id": "82c8537f-49c4-46ce-8799-2334cb68edc3",
   "metadata": {},
   "outputs": [],
   "source": [
    "to_be_predicted"
   ]
  },
  {
   "cell_type": "code",
   "execution_count": null,
   "id": "bc003ae3-a887-4bdb-8e4a-d29291ae303e",
   "metadata": {},
   "outputs": [],
   "source": [
    "[np.exp(value) for value in lr.predict(to_be_predicted)]"
   ]
  },
  {
   "cell_type": "code",
   "execution_count": null,
   "id": "7d0b687b-56fe-42cb-aef6-30065801bfe1",
   "metadata": {},
   "outputs": [],
   "source": [
    "y.iloc[8090]"
   ]
  },
  {
   "cell_type": "markdown",
   "id": "0df8a44b-f657-4444-bc77-8ebd69aac674",
   "metadata": {},
   "source": [
    "### Decision Tree\n",
    "https://scikit-learn.org/stable/auto_examples/tree/plot_tree_regression.html"
   ]
  },
  {
   "cell_type": "code",
   "execution_count": null,
   "id": "017aa43c-f5c0-42e9-bd8d-e535440134b4",
   "metadata": {},
   "outputs": [],
   "source": []
  },
  {
   "cell_type": "markdown",
   "id": "184bde29-6ff2-4cf1-8fa5-d80d9fd1eae5",
   "metadata": {},
   "source": [
    "### Random Forest\n",
    "https://scikit-learn.org/stable/modules/generated/sklearn.ensemble.RandomForestRegressor.html"
   ]
  },
  {
   "cell_type": "code",
   "execution_count": null,
   "id": "74c67fc6-d597-4f64-912f-1ccdbc44d53a",
   "metadata": {},
   "outputs": [],
   "source": []
  }
 ],
 "metadata": {
  "kernelspec": {
   "display_name": "Python 3 (ipykernel)",
   "language": "python",
   "name": "python3"
  },
  "language_info": {
   "codemirror_mode": {
    "name": "ipython",
    "version": 3
   },
   "file_extension": ".py",
   "mimetype": "text/x-python",
   "name": "python",
   "nbconvert_exporter": "python",
   "pygments_lexer": "ipython3",
   "version": "3.13.0"
  }
 },
 "nbformat": 4,
 "nbformat_minor": 5
}
